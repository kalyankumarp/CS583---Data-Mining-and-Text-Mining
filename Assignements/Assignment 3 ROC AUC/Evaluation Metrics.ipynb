{
 "cells": [
  {
   "cell_type": "code",
   "execution_count": 1,
   "metadata": {},
   "outputs": [],
   "source": [
    "import numpy as np\n",
    "import os\n",
    "import pandas as pd\n",
    "import matplotlib.pyplot as mp\n",
    "from math import nan\n",
    "from sklearn import metrics"
   ]
  },
  {
   "cell_type": "code",
   "execution_count": 2,
   "metadata": {},
   "outputs": [],
   "source": [
    "file_path = r'C:\\Users\\kalya\\OneDrive - University of Illinois at Chicago\\!UIC\\!Semesters\\3rd Sem\\CS 583 Data Mining and Text Mining\\Assignements\\Assignment 3'"
   ]
  },
  {
   "cell_type": "code",
   "execution_count": 3,
   "metadata": {},
   "outputs": [],
   "source": [
    "temp = np.loadtxt(fname = os.path.join(file_path, 'AS3_Sample3.txt'), delimiter= '\\n', dtype= str)\n",
    "data_temp = [i.replace('{','').replace('}', '').split(', ') for i in temp]\n",
    "data = [[float(i) for i in j] for j in data_temp]\n",
    "#data"
   ]
  },
  {
   "cell_type": "code",
   "execution_count": 4,
   "metadata": {},
   "outputs": [],
   "source": [
    "# data = np.loadtxt(fname = os.path.join(file_path, 'Book1.csv'), delimiter= ',', skiprows = 1)\n",
    "# k = 1\n",
    "# for i in data:\n",
    "#     print(str(k) + ', ' + str(i[0]) + ', ' + str(int(i[1])))\n",
    "#     k += 1\n",
    "    "
   ]
  },
  {
   "cell_type": "code",
   "execution_count": 5,
   "metadata": {},
   "outputs": [],
   "source": [
    "# def predicted_class(data, threshold):\n",
    "#     temp =[]\n",
    "#     for i in data:\n",
    "#         if i[1]>threshold:\n",
    "#             temp.append(i + [1.0])\n",
    "#         else:\n",
    "#             temp.append(i + [0.0])\n",
    "#     return temp\n",
    "\n",
    "# data2= predicted_class(data, 0.5)\n",
    "# data2        "
   ]
  },
  {
   "cell_type": "code",
   "execution_count": 6,
   "metadata": {},
   "outputs": [
    {
     "data": {
      "text/plain": [
       "array([['0.639816239', '0.490992931', '0.623814545', ..., '0.366942846',\n",
       "        '0.463990116', '0.710103945'],\n",
       "       ['A', 'B', 'A', ..., 'B', 'B', 'A'],\n",
       "       ['A', 'B', 'A', ..., 'B', 'B', 'A']], dtype='<U32')"
      ]
     },
     "execution_count": 6,
     "metadata": {},
     "output_type": "execute_result"
    }
   ],
   "source": [
    "def predicted_class(data, threshold):\n",
    "    data_t = np.transpose(data)\n",
    "    temp  = []\n",
    "    temp2 = []\n",
    "    temp3 = []\n",
    "    for i in data_t[0]:\n",
    "        if i>=threshold:\n",
    "            temp.append('A')\n",
    "        else:\n",
    "            temp.append('B')\n",
    "    for j in data_t[1]:\n",
    "        if j == 1.0:\n",
    "            temp3.append('A')\n",
    "        else:\n",
    "            temp3.append('B')  \n",
    "            \n",
    "    temp2.append(data_t[0])\n",
    "    temp2.append(temp3)\n",
    "    temp2.append(temp)\n",
    "\n",
    "    return np.asarray(temp2)\n",
    "\n",
    "data2= predicted_class(np.asarray(data)[:,1:], 0.5)\n",
    "data2"
   ]
  },
  {
   "cell_type": "code",
   "execution_count": null,
   "metadata": {},
   "outputs": [],
   "source": []
  },
  {
   "cell_type": "markdown",
   "metadata": {},
   "source": [
    "# The rows are actual and columns are predicted\n",
    "# The first row is positive and second one is of negative class. The same for columns"
   ]
  },
  {
   "cell_type": "code",
   "execution_count": 7,
   "metadata": {},
   "outputs": [
    {
     "data": {
      "text/plain": [
       "array([[313., 185.],\n",
       "       [144., 358.]])"
      ]
     },
     "execution_count": 7,
     "metadata": {},
     "output_type": "execute_result"
    }
   ],
   "source": [
    "def evaluation_metrics(data_t, threshold):\n",
    "    data = predicted_class(data_t, threshold)\n",
    "\n",
    "# CONFUSION Matrix \n",
    "    actual_Classes = data[-2]    \n",
    "    predicted_Classes = data[-1] \n",
    "    class_uniq = np.unique(actual_Classes)\n",
    "#     print(class_uniq)\n",
    "    n = len(class_uniq)\n",
    "    conf = np.zeros((n,n))\n",
    "\n",
    "    for i in range(len(class_uniq)):\n",
    "        for j in range(len(class_uniq)):\n",
    "\n",
    "            conf[i, j] = np.sum((actual_Classes == class_uniq[i]) & (predicted_Classes == class_uniq[j]))\n",
    "    \n",
    "# Evaluation Metrics\n",
    "    EM = {}\n",
    "    EM['accuracy'] = round(sum(np.diagonal(conf))/len(data[0]),3)\n",
    "    EM['prec_positive'] = round(conf[0][0]/sum(conf[:,0]),3)\n",
    "    temp_rec = round(conf[0][0]/sum(conf[0,:]),3)\n",
    "    temp_func = lambda temp: 0 if bool(np.isnan(temp))  else temp\n",
    "    EM['rec_positive'] = temp_func(temp_rec)\n",
    "#     print(EM['rec_positive'])\n",
    "    EM['F1_positive'] = temp_func(round((2*EM['prec_positive']*EM['rec_positive'])/(EM['prec_positive']+EM['rec_positive']),3))\n",
    "    EM['TPR'] = EM['rec_positive']\n",
    "    EM['sensitivity'] = EM['rec_positive']\n",
    "    EM['TNR'] = temp_func(round(conf[1][1]/sum(conf[1,:]),3))\n",
    "    EM['specificity'] = EM['TNR']\n",
    "    EM['FPR'] = temp_func(round(1 - EM['TNR'],3))\n",
    "    return EM, conf\n",
    "\n",
    "\n",
    "EM, conf = evaluation_metrics(np.asarray(data)[:,1:], 0.5)\n",
    "conf"
   ]
  },
  {
   "cell_type": "code",
   "execution_count": 43,
   "metadata": {},
   "outputs": [
    {
     "data": {
      "text/plain": [
       "{'accuracy': 0.671,\n",
       " 'prec_positive': 0.685,\n",
       " 'rec_positive': 0.629,\n",
       " 'F1_positive': 0.656,\n",
       " 'TPR': 0.629,\n",
       " 'sensitivity': 0.629,\n",
       " 'TNR': 0.713,\n",
       " 'specificity': 0.713,\n",
       " 'FPR': 0.287}"
      ]
     },
     "execution_count": 43,
     "metadata": {},
     "output_type": "execute_result"
    }
   ],
   "source": [
    "EM"
   ]
  },
  {
   "cell_type": "code",
   "execution_count": 44,
   "metadata": {},
   "outputs": [
    {
     "data": {
      "text/plain": [
       "array([[0.86098878, 1.        ],\n",
       "       [0.85141393, 1.        ],\n",
       "       [0.82287656, 1.        ],\n",
       "       ...,\n",
       "       [0.23463959, 0.        ],\n",
       "       [0.19600383, 0.        ],\n",
       "       [0.19234598, 0.        ]])"
      ]
     },
     "execution_count": 44,
     "metadata": {},
     "output_type": "execute_result"
    }
   ],
   "source": [
    "data_np = np.asarray(data)\n",
    "ind=np.argsort(data_np[:,-2])\n",
    "\n",
    "data_sorted=data_np[ind][::-1][:,1:]\n",
    "data_sorted"
   ]
  },
  {
   "cell_type": "code",
   "execution_count": 47,
   "metadata": {},
   "outputs": [],
   "source": [
    "def ROC(data):\n",
    "    data_np = np.asarray(data)\n",
    "    ind=np.argsort(data_np[:,-2])\n",
    "    data_sorted=data_np[ind][:,1:]\n",
    "    a = []\n",
    "    for i in range(len(data_sorted)):\n",
    "        thres = data_sorted[i][0]\n",
    "        EM_temp = evaluation_metrics(data_sorted, thres)[0]\n",
    "        b =[EM_temp['FPR'], EM_temp['TPR']]\n",
    "        a.append(b) \n",
    "    return np.transpose(a)\n",
    "        \n",
    "        \n",
    "\n",
    "a = ROC(data)"
   ]
  },
  {
   "cell_type": "code",
   "execution_count": 48,
   "metadata": {},
   "outputs": [
    {
     "data": {
      "text/plain": [
       "array([[1.   , 0.998, 0.996, ..., 0.   , 0.   , 0.   ],\n",
       "       [1.   , 1.   , 1.   , ..., 0.006, 0.004, 0.002]])"
      ]
     },
     "execution_count": 48,
     "metadata": {},
     "output_type": "execute_result"
    }
   ],
   "source": [
    "a"
   ]
  },
  {
   "cell_type": "code",
   "execution_count": 49,
   "metadata": {},
   "outputs": [],
   "source": [
    "# def ROC(data, inc):\n",
    "#     t = 0\n",
    "#     a = []\n",
    "#     while t <= 1:\n",
    "#         EM_temp = evaluation_metrics(data, t)[0]\n",
    "#         b =[EM_temp['FPR'], EM_temp['TPR']]\n",
    "#         a.append(b)\n",
    "#         t += inc\n",
    "#     return a\n",
    "\n",
    "# a = np.transpose(ROC(data, 0.01))\n"
   ]
  },
  {
   "cell_type": "code",
   "execution_count": 50,
   "metadata": {},
   "outputs": [
    {
     "data": {
      "text/plain": [
       "<matplotlib.collections.PathCollection at 0x23143a3e108>"
      ]
     },
     "execution_count": 50,
     "metadata": {},
     "output_type": "execute_result"
    },
    {
     "data": {
      "image/png": "[encoded data removed]",
      "text/plain": [
       "<Figure size 432x288 with 1 Axes>"
      ]
     },
     "metadata": {
      "needs_background": "light"
     },
     "output_type": "display_data"
    }
   ],
   "source": [
    "mp.scatter(a[0], a[1])"
   ]
  },
  {
   "cell_type": "markdown",
   "metadata": {},
   "source": [
    "# Using Trapeziodal principle to find the area under the roc curve"
   ]
  },
  {
   "cell_type": "code",
   "execution_count": 51,
   "metadata": {},
   "outputs": [
    {
     "data": {
      "text/plain": [
       "0.738"
      ]
     },
     "execution_count": 51,
     "metadata": {},
     "output_type": "execute_result"
    }
   ],
   "source": [
    "def auc(a):\n",
    "    area = 0\n",
    "    for i in range(len(a[0])-1):\n",
    "#         print(i)\n",
    "        area += abs((a[0][i+1] - a[0][i])*(a[1][i+1] + a[1][i]))/2\n",
    "    return round(area,3)\n",
    "\n",
    "auc(a)\n",
    "        "
   ]
  },
  {
   "cell_type": "code",
   "execution_count": 53,
   "metadata": {},
   "outputs": [],
   "source": [
    "from sklearn.metrics import confusion_matrix, precision_score, recall_score, roc_auc_score"
   ]
  },
  {
   "cell_type": "code",
   "execution_count": 55,
   "metadata": {},
   "outputs": [
    {
     "data": {
      "text/plain": [
       "array(['A', 'B'], dtype='<U32')"
      ]
     },
     "execution_count": 55,
     "metadata": {},
     "output_type": "execute_result"
    }
   ],
   "source": [
    "np.unique(data2[1])"
   ]
  },
  {
   "cell_type": "code",
   "execution_count": 53,
   "metadata": {},
   "outputs": [
    {
     "data": {
      "text/plain": [
       "array([0.68138248, 0.66087894])"
      ]
     },
     "execution_count": 53,
     "metadata": {},
     "output_type": "execute_result"
    }
   ],
   "source": [
    "precision_score(data2[1], data2[2], average  = None)"
   ]
  },
  {
   "cell_type": "code",
   "execution_count": 55,
   "metadata": {},
   "outputs": [
    {
     "data": {
      "text/plain": [
       "array([0.64056352, 0.7004696 ])"
      ]
     },
     "execution_count": 55,
     "metadata": {},
     "output_type": "execute_result"
    }
   ],
   "source": [
    "recall_score(data2[1], data2[2], average  = None)"
   ]
  },
  {
   "cell_type": "code",
   "execution_count": null,
   "metadata": {},
   "outputs": [],
   "source": []
  },
  {
   "cell_type": "code",
   "execution_count": 11,
   "metadata": {},
   "outputs": [
    {
     "name": "stdout",
     "output_type": "stream",
     "text": [
      "(\n",
      "(Accuracy 0.671)\n",
      "(Precision 0.685)\n",
      "(Recall 0.629)\n",
      "(F1 0.656)\n",
      "(TPR 0.629)\n",
      "(FPR 0.287)\n",
      "(Specificity 0.713)\n",
      "(Sensitivity 0.629)\n",
      "(AUC 0.738)\n",
      ")\n"
     ]
    }
   ],
   "source": [
    "import numpy as np\n",
    "import os\n",
    "import pandas as pd\n",
    "import matplotlib.pyplot as mp\n",
    "\n",
    "def EM_assignment3(file_path, sampletxt):\n",
    "    \n",
    "# Predicting the classes based on the given probabilities\n",
    "    def predicted_class(data, threshold):\n",
    "        data_t = np.transpose(data)\n",
    "        temp  = []\n",
    "        temp2 = []\n",
    "        temp3 = []\n",
    "        for i in data_t[0]:\n",
    "            if i>=threshold:\n",
    "                temp.append('A')\n",
    "            else:\n",
    "                temp.append('B')\n",
    "        for j in data_t[1]:\n",
    "            if j == 1.0:\n",
    "                temp3.append('A')\n",
    "            else:\n",
    "                temp3.append('B')  \n",
    "\n",
    "        temp2.append(data_t[0])\n",
    "        temp2.append(temp3)\n",
    "        temp2.append(temp)\n",
    "\n",
    "        return np.asarray(temp2)\n",
    "\n",
    "    def evaluation_metrics(data_t, threshold):\n",
    "        data = predicted_class(data_t, threshold)\n",
    "\n",
    "    # CONFUSION Matrix \n",
    "        actual_Classes = data[-2]    \n",
    "        predicted_Classes = data[-1] \n",
    "        class_uniq = np.unique(actual_Classes)\n",
    "    #     print(class_uniq)\n",
    "        n = len(class_uniq)\n",
    "        conf = np.zeros((n,n))\n",
    "\n",
    "        for i in range(len(class_uniq)):\n",
    "            for j in range(len(class_uniq)):\n",
    "                conf[i, j] = np.sum((actual_Classes == class_uniq[i]) & (predicted_Classes == class_uniq[j]))\n",
    "\n",
    "# The rows are actual and columns are predicted\n",
    "# The first row is positive and second one is of negative class. The same for columns            \n",
    "\n",
    "    # Evaluation Metrics\n",
    "        EM = {}\n",
    "        EM['accuracy'] = round(sum(np.diagonal(conf))/len(data[0]),3)\n",
    "        EM['prec_positive'] = round(conf[0][0]/sum(conf[:,0]),3)\n",
    "        temp_rec = round(conf[0][0]/sum(conf[0,:]),3)\n",
    "        temp_func = lambda temp: 0 if bool(np.isnan(temp))  else temp\n",
    "        EM['rec_positive'] = temp_func(temp_rec)\n",
    "\n",
    "        EM['F1_positive'] = temp_func(round((2*EM['prec_positive']*EM['rec_positive'])/(EM['prec_positive']+EM['rec_positive']),3))\n",
    "        EM['TPR'] = EM['rec_positive']\n",
    "        EM['sensitivity'] = EM['rec_positive']\n",
    "        EM['TNR'] = temp_func(round(conf[1][1]/sum(conf[1,:]),3))\n",
    "        EM['specificity'] = EM['TNR']\n",
    "        EM['FPR'] = temp_func(round(1 - EM['TNR'],3))\n",
    "        return EM, conf\n",
    "\n",
    "    def ROC(data):\n",
    "        data_np = np.asarray(data)\n",
    "        ind=np.argsort(data_np[:,-2])\n",
    "        data_sorted=data_np[ind][:,1:]\n",
    "#         print(data_sorted)\n",
    "        a = []\n",
    "        for i in range(len(data_sorted)):\n",
    "            thres = data_sorted[i][0]\n",
    "            EM_temp = evaluation_metrics(data_sorted, thres)[0]\n",
    "            b =[EM_temp['FPR'], EM_temp['TPR']]\n",
    "            a.append(b) \n",
    "        return np.transpose(a)\n",
    "\n",
    "    \n",
    "    def auc(a):\n",
    "\n",
    "# Using Trapeziodal principle to find the area under the roc curve\n",
    "\n",
    "        area = 0\n",
    "        for i in range(len(a[0])-1):\n",
    "            area += abs((a[0][i+1] - a[0][i])*(a[1][i+1] + a[1][i]))/2\n",
    "        return round(area,3)\n",
    "    \n",
    "# Loading the data from the given text file    \n",
    "\n",
    "    temp = np.loadtxt(fname = os.path.join(file_path, sampletxt), delimiter= '\\n', dtype= str)\n",
    "    data_temp = [i.replace('{','').replace('}', '').split(', ') for i in temp]\n",
    "    data = [[float(i) for i in j] for j in data_temp]\n",
    "\n",
    "    # data2= predicted_class(data, 0.5)\n",
    "    EM, conf = evaluation_metrics(np.asarray(data)[:,1:], 0.5)\n",
    "\n",
    "    a = ROC(data)\n",
    "    \n",
    "    print('(')\n",
    "    print('(Accuracy ' + str(EM['accuracy']) + ')')\n",
    "    print('(Precision ' + str(EM['prec_positive']) + ')')\n",
    "    print('(Recall ' + str(EM['rec_positive']) + ')')\n",
    "    print('(F1 ' + str(EM['F1_positive']) + ')')\n",
    "    print('(TPR ' + str(EM['TPR']) + ')')\n",
    "    print('(FPR ' + str(EM['FPR']) + ')')\n",
    "    print('(Specificity ' + str(EM['specificity']) + ')')\n",
    "    print('(Sensitivity ' + str(EM['sensitivity']) + ')')\n",
    "    print('(AUC ' + str(auc(a)) + ')')\n",
    "    print(')')\n",
    "\n",
    "file_path = r'C:\\Users\\kalya\\OneDrive - University of Illinois at Chicago\\!UIC\\!Semesters\\3rd Sem\\CS 583 Data Mining and Text Mining\\Assignements\\Assignment 3'\n",
    "EM_assignment3(file_path, 'AS3_Sample3.txt')\n"
   ]
  },
  {
   "cell_type": "code",
   "execution_count": null,
   "metadata": {},
   "outputs": [],
   "source": []
  }
 ],
 "metadata": {
  "kernelspec": {
   "display_name": "Python 3",
   "language": "python",
   "name": "python3"
  },
  "language_info": {
   "codemirror_mode": {
    "name": "ipython",
    "version": 3
   },
   "file_extension": ".py",
   "mimetype": "text/x-python",
   "name": "python",
   "nbconvert_exporter": "python",
   "pygments_lexer": "ipython3",
   "version": "3.7.6"
  }
 },
 "nbformat": 4,
 "nbformat_minor": 4
}
