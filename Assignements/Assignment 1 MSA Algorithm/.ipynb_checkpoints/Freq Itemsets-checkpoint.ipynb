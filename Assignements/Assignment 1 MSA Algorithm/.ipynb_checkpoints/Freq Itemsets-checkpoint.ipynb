{
 "cells": [
  {
   "cell_type": "code",
   "execution_count": 45,
   "metadata": {},
   "outputs": [],
   "source": [
    "import numpy as np\n",
    "import os\n"
   ]
  },
  {
   "cell_type": "code",
   "execution_count": 46,
   "metadata": {},
   "outputs": [],
   "source": [
    "file_path = r'C:\\Users\\kalya\\OneDrive - University of Illinois at Chicago\\!UIC\\!Semesters\\3rd Sem\\CS 583 Data Mining and Text Mining\\Assignements\\Assignment 1'"
   ]
  },
  {
   "cell_type": "code",
   "execution_count": 47,
   "metadata": {},
   "outputs": [
    {
     "data": {
      "text/plain": [
       "\"[['40', '50', '60', '70', '80'], ['10', '20', '40', '50', '70'], ['10', '50', '60'], ['40', '50', '60', '80'], ['20', '30', '40', '50', '70'], ['30', '40', '50', '60', '70'], ['20', '30', '50', '60'], ['10', '30', '50', '70', '80'], ['10', '20', '50', '60', '70'], ['10', '20', '30', '50', '60', '80'], ['30', '40', '50', '60'], ['10', '30', '40', '50', '60', '70'], ['20', '40', '50', '60', '80'], ['20', '50', '60'], ['30', '50', '70'], ['10', '40', '50', '70'], ['20', '50', '70'], ['50', '60'], ['20', '30', '50', '60', '70'], ['20', '30', '40', '50', '60', '70'], ['10', '20', '30', '50', '60', '70'], ['10', '50', '60', '70'], ['40', '50', '60', '70'], ['30', '50', '70', '80'], ['10', '20', '30', '50', '60'], ['50', '60', '70'], ['10', '20', '40', '50', '60'], ['20', '40', '50', '60', '70'], ['40', '50', '60', '70', '80'], ['10', '20', '40', '50', '70'], ['10', '50', '60'], ['40', '50', '60', '80'], ['20', '30', '40', '50', '70'], ['30', '40', '50', '60', '70'], ['20', '30', '50', '60'], ['10', '30', '50', '70', '80'], ['10', '20', '50', '60', '70'], ['10', '20', '30', '50', '60', '80'], ['10', '20', '50', '60', '70', '80'], ['10', '20', '50', '60'], ['20', '30', '50', '60', '70', '80'], ['10', '30', '50', '60', '70', '80'], ['30', '50', '60', '70'], ['30', '50', '60', '70', '80'], ['10', '40', '50', '80'], ['30', '50', '60'], ['10', '40', '50', '60'], ['10', '30', '50', '60', '70'], ['20', '50', '60', '70'], ['20', '50', '60', '70', '80'], ['30', '40', '70'], ['50', '60', '70', '20'], ['70', '30', '20', '40'], ['10', '40', '50', '80'], ['30', '50', '60'], ['10', '40', '50', '60'], ['10', '30', '50', '60', '70'], ['20', '50', '60', '70'], ['20', '50', '60', '70', '80'], ['30', '40', '70'], ['50', '60', '70', '20'], ['70', '30', '20', '40']]\""
      ]
     },
     "execution_count": 47,
     "metadata": {},
     "output_type": "execute_result"
    }
   ],
   "source": [
    "temp = np.loadtxt(fname = os.path.join(file_path, 'Sample7.txt'), delimiter= '\\n', dtype= str)\n",
    "data_temp = [i.replace('{','').replace('}', '').split(', ') for i in temp]\n",
    "data = [[i for i in j] for j in data_temp]\n",
    "str(data)"
   ]
  },
  {
   "cell_type": "code",
   "execution_count": 48,
   "metadata": {},
   "outputs": [
    {
     "data": {
      "text/plain": [
       "62"
      ]
     },
     "execution_count": 48,
     "metadata": {},
     "output_type": "execute_result"
    }
   ],
   "source": [
    "no_trans = len(data)\n",
    "no_trans"
   ]
  },
  {
   "cell_type": "code",
   "execution_count": 49,
   "metadata": {},
   "outputs": [
    {
     "data": {
      "text/plain": [
       "\"[['MIS(10)', '0.10'], ['MIS(20)', '0.50'], ['MIS(30)', '0.30'], ['MIS(40)', '0.40'], ['MIS(50)', '0.80'], ['MIS(60)', '0.40'], ['MIS(70)', '0.70'], ['MIS(80)', '0.20'], ['SDC', '0.4']]\""
      ]
     },
     "execution_count": 49,
     "metadata": {},
     "output_type": "execute_result"
    }
   ],
   "source": [
    "temp2 = np.loadtxt(fname = os.path.join(file_path, 'MIS7.txt'), delimiter= '\\n', dtype= str)\n",
    "MIS_temp = [i.split(' = ') for i in temp2]\n",
    "str(MIS_temp)"
   ]
  },
  {
   "cell_type": "code",
   "execution_count": null,
   "metadata": {},
   "outputs": [],
   "source": []
  },
  {
   "cell_type": "code",
   "execution_count": 50,
   "metadata": {},
   "outputs": [],
   "source": [
    "# def get_mis(MIS):\n",
    "#     ms = {}\n",
    "#     for i in MIS:\n",
    "#         temp3 = []\n",
    "#         if i[0] == 'SDC':\n",
    "#             print(i[1])\n",
    "#             sdc = float(i[1])\n",
    "#         elif i[0] == 'MIS(rest)':\n",
    "#             mis_rest = float(i[1])\n",
    "#         else: \n",
    "# #             temp3.append(i[0][4])\n",
    "# #             temp3.append(float(i[1]))\n",
    "# #             ms.append(temp3)\n",
    "#             ms[int(i[0][4])] = float(i[1])\n",
    "#     return ms, mis_rest, sdc\n",
    "\n",
    "# MIS_temp2, mis_rest, sdc = get_mis(MIS_temp) \n",
    "# MIS_temp2"
   ]
  },
  {
   "cell_type": "code",
   "execution_count": 51,
   "metadata": {},
   "outputs": [
    {
     "name": "stdout",
     "output_type": "stream",
     "text": [
      "0.4\n"
     ]
    },
    {
     "data": {
      "text/plain": [
       "\"{'10': 0.1, '20': 0.5, '30': 0.3, '40': 0.4, '50': 0.8, '60': 0.4, '70': 0.7, '80': 0.2}\""
      ]
     },
     "execution_count": 51,
     "metadata": {},
     "output_type": "execute_result"
    }
   ],
   "source": [
    "def get_mis(MIS):\n",
    "    ms = {}\n",
    "    sdc =0.1\n",
    "    mis_rest =0\n",
    "    for i in MIS:\n",
    "#         temp3 = []\n",
    "        if i[0] == 'SDC':\n",
    "            print(i[1])\n",
    "            sdc = float(i[1])\n",
    "        elif i[0] == 'MIS(rest)':\n",
    "            mis_rest = float(i[1])\n",
    "        else: \n",
    "#             temp3.append(i[0][4])\n",
    "#             temp3.append(float(i[1]))\n",
    "#             ms.append(temp3)\n",
    "            ms[str(int(i[0][4:len(i[0])-1]))] =  float(i[1])\n",
    "    return ms, mis_rest, sdc\n",
    "\n",
    "MIS_temp2, mis_rest, sdc = get_mis(MIS_temp) \n",
    "str(MIS_temp2)"
   ]
  },
  {
   "cell_type": "code",
   "execution_count": null,
   "metadata": {},
   "outputs": [],
   "source": []
  },
  {
   "cell_type": "code",
   "execution_count": 52,
   "metadata": {},
   "outputs": [
    {
     "data": {
      "text/plain": [
       "\"['10' '20' '30' '40' '50' '60' '70' '80']\""
      ]
     },
     "execution_count": 52,
     "metadata": {},
     "output_type": "execute_result"
    }
   ],
   "source": [
    "def get_items(data):\n",
    "    temp6 =[]\n",
    "    for i in data:\n",
    "        for j in i:\n",
    "            temp6.append(str(j))\n",
    "    return np.unique(temp6)\n",
    "    \n",
    "items = get_items(data)\n",
    "str(items)"
   ]
  },
  {
   "cell_type": "code",
   "execution_count": 53,
   "metadata": {},
   "outputs": [
    {
     "data": {
      "text/plain": [
       "\"{'10': 0.1, '20': 0.5, '30': 0.3, '40': 0.4, '50': 0.8, '60': 0.4, '70': 0.7, '80': 0.2}\""
      ]
     },
     "execution_count": 53,
     "metadata": {},
     "output_type": "execute_result"
    }
   ],
   "source": [
    "def all_mis(MIS_temp, items):\n",
    "    MIS ={}\n",
    "    for i in items:\n",
    "        try:\n",
    "            MIS[i] = MIS_temp[i]\n",
    "        except:\n",
    "            MIS[i] = mis_rest\n",
    "    return MIS\n",
    "MIS = all_mis(MIS_temp2, items)\n",
    "str(MIS)"
   ]
  },
  {
   "cell_type": "code",
   "execution_count": 54,
   "metadata": {},
   "outputs": [],
   "source": [
    "def sort(a, MIS, mis_rest):\n",
    "    temp5 = {} \n",
    "    try: \n",
    "        for i in a:\n",
    "            temp5[i] = MIS[str(i)] \n",
    "        l = [i[0] for i in sorted(temp5.items(), key = lambda x: x[1])]\n",
    "    except:\n",
    "        for i in a:\n",
    "            temp5[i[0]] = MIS[i[0]] \n",
    "        l = [[i[0]] for i in sorted(temp5.items(), key = lambda x: x[1])]            \n",
    "    \n",
    "    return l"
   ]
  },
  {
   "cell_type": "code",
   "execution_count": null,
   "metadata": {},
   "outputs": [],
   "source": []
  },
  {
   "cell_type": "code",
   "execution_count": 55,
   "metadata": {},
   "outputs": [
    {
     "data": {
      "text/plain": [
       "\"[['80', '40', '60', '70', '50'], ['10', '40', '20', '70', '50'], ['10', '60', '50'], ['80', '40', '60', '50'], ['30', '40', '20', '70', '50'], ['30', '40', '60', '70', '50'], ['30', '60', '20', '50'], ['10', '80', '30', '70', '50'], ['10', '60', '20', '70', '50'], ['10', '80', '30', '60', '20', '50'], ['30', '40', '60', '50'], ['10', '30', '40', '60', '70', '50'], ['80', '40', '60', '20', '50'], ['60', '20', '50'], ['30', '70', '50'], ['10', '40', '70', '50'], ['20', '70', '50'], ['60', '50'], ['30', '60', '20', '70', '50'], ['30', '40', '60', '20', '70', '50'], ['10', '30', '60', '20', '70', '50'], ['10', '60', '70', '50'], ['40', '60', '70', '50'], ['80', '30', '70', '50'], ['10', '30', '60', '20', '50'], ['60', '70', '50'], ['10', '40', '60', '20', '50'], ['40', '60', '20', '70', '50'], ['80', '40', '60', '70', '50'], ['10', '40', '20', '70', '50'], ['10', '60', '50'], ['80', '40', '60', '50'], ['30', '40', '20', '70', '50'], ['30', '40', '60', '70', '50'], ['30', '60', '20', '50'], ['10', '80', '30', '70', '50'], ['10', '60', '20', '70', '50'], ['10', '80', '30', '60', '20', '50'], ['10', '80', '60', '20', '70', '50'], ['10', '60', '20', '50'], ['80', '30', '60', '20', '70', '50'], ['10', '80', '30', '60', '70', '50'], ['30', '60', '70', '50'], ['80', '30', '60', '70', '50'], ['10', '80', '40', '50'], ['30', '60', '50'], ['10', '40', '60', '50'], ['10', '30', '60', '70', '50'], ['60', '20', '70', '50'], ['80', '60', '20', '70', '50'], ['30', '40', '70'], ['60', '20', '70', '50'], ['30', '40', '20', '70'], ['10', '80', '40', '50'], ['30', '60', '50'], ['10', '40', '60', '50'], ['10', '30', '60', '70', '50'], ['60', '20', '70', '50'], ['80', '60', '20', '70', '50'], ['30', '40', '70'], ['60', '20', '70', '50'], ['30', '40', '20', '70']]\""
      ]
     },
     "execution_count": 55,
     "metadata": {},
     "output_type": "execute_result"
    }
   ],
   "source": [
    "data_sorted = [sort(i, MIS, mis_rest) for i in data]\n",
    "str(data_sorted)"
   ]
  },
  {
   "cell_type": "code",
   "execution_count": 56,
   "metadata": {},
   "outputs": [],
   "source": [
    "# from operator import itemgetter\n",
    "# def calculate_M(MIS):\n",
    "# \tM = sorted(MIS.items(), key=itemgetter(1)) ## M is the list of the values sorted by MIS Values\n",
    "# \treturn M"
   ]
  },
  {
   "cell_type": "code",
   "execution_count": 57,
   "metadata": {},
   "outputs": [],
   "source": [
    "# M = calculate_M(MIS)\n",
    "# str(M)"
   ]
  },
  {
   "cell_type": "code",
   "execution_count": null,
   "metadata": {},
   "outputs": [],
   "source": []
  },
  {
   "cell_type": "code",
   "execution_count": 58,
   "metadata": {},
   "outputs": [
    {
     "data": {
      "text/plain": [
       "\"['10', '80', '30', '40', '60', '20', '70', '50']\""
      ]
     },
     "execution_count": 58,
     "metadata": {},
     "output_type": "execute_result"
    }
   ],
   "source": [
    "M = sort(items, MIS, mis_rest)\n",
    "str(M)"
   ]
  },
  {
   "cell_type": "code",
   "execution_count": 59,
   "metadata": {},
   "outputs": [
    {
     "data": {
      "text/plain": [
       "\"{'10': 0, '80': 1, '30': 2, '40': 3, '60': 4, '20': 5, '70': 6, '50': 7}\""
      ]
     },
     "execution_count": 59,
     "metadata": {},
     "output_type": "execute_result"
    }
   ],
   "source": [
    "def order(M):\n",
    "    order ={}\n",
    "    for (i,j) in list(enumerate(M)):\n",
    "        order[j] = i\n",
    "    return order\n",
    "order = order(M)\n",
    "str(order)"
   ]
  },
  {
   "cell_type": "code",
   "execution_count": 60,
   "metadata": {},
   "outputs": [
    {
     "data": {
      "text/plain": [
       "['10', '80', '30', '40', '60', '20', '70', '50']"
      ]
     },
     "execution_count": 60,
     "metadata": {},
     "output_type": "execute_result"
    }
   ],
   "source": [
    "M"
   ]
  },
  {
   "cell_type": "code",
   "execution_count": null,
   "metadata": {},
   "outputs": [],
   "source": []
  },
  {
   "cell_type": "markdown",
   "metadata": {},
   "source": [
    "# First counting"
   ]
  },
  {
   "cell_type": "code",
   "execution_count": 64,
   "metadata": {},
   "outputs": [
    {
     "data": {
      "text/plain": [
       "\"{('10',): 25, ('80',): 18, ('30',): 30, ('40',): 26, ('60',): 46, ('20',): 30, ('70',): 41, ('50',): 58}\""
      ]
     },
     "execution_count": 64,
     "metadata": {},
     "output_type": "execute_result"
    }
   ],
   "source": [
    "global count\n",
    "count ={}\n",
    "def first_counting(M, data_sorted):\n",
    "    for i in M:\n",
    "        count[tuple([i])] = 0\n",
    "    # print(count)\n",
    "    for i in data_sorted:\n",
    "        for j in i:\n",
    "    #         print(j)\n",
    "            count[tuple([j])] += 1\n",
    "first_counting(M, data_sorted)       \n",
    "str(count)        "
   ]
  },
  {
   "cell_type": "markdown",
   "metadata": {},
   "source": [
    "# L"
   ]
  },
  {
   "cell_type": "code",
   "execution_count": 62,
   "metadata": {},
   "outputs": [
    {
     "name": "stdout",
     "output_type": "stream",
     "text": [
      "[['10'], ['80'], ['30'], ['40'], ['60'], ['20'], ['70'], ['50']]\n",
      "8\n"
     ]
    },
    {
     "data": {
      "text/plain": [
       "\"[['10'], ['80'], ['30'], ['40'], ['60'], ['20'], ['70'], ['50']]\""
      ]
     },
     "execution_count": 62,
     "metadata": {},
     "output_type": "execute_result"
    }
   ],
   "source": [
    "\n",
    "\n",
    "# for i in items:\n",
    "#     if count[i]/no_trans >= MIS[i]:\n",
    "#         print(i)\n",
    "#         first = items.index(i)\n",
    "#         L.append(i)\n",
    "#         support[i] = round(count[i]/no_trans,2)\n",
    "#         break\n",
    "# print(first)\n",
    "# while first < len(items)-1:\n",
    "#     if count[items[first+1]]/no_trans >= MIS[L[0]]:\n",
    "#         L.append(items[first+1])\n",
    "#         support[items[first+1]] = round(count[items[first+1]]/no_trans,2)\n",
    "#     first+=1       \n",
    "def init_pass(M,MIS):\n",
    "    temp_L = []\n",
    "    flag = True\n",
    "    for i in M:\n",
    "        if count[tuple([i])]/no_trans >= MIS[i] and flag:\n",
    "            temp_L.append([i])\n",
    "            min_mis = MIS[i]\n",
    "            flag = False\n",
    "            \n",
    "        elif not flag:\n",
    "            if count[tuple([i])]/no_trans >= min_mis:\n",
    "                temp_L.append([i])\n",
    "\n",
    "    return temp_L\n",
    "\n",
    "temp_L =  init_pass(M,MIS)\n",
    "print(temp_L)\n",
    "L = sort(temp_L, order, mis_rest)\n",
    "print(len(L))\n",
    "str(L)"
   ]
  },
  {
   "cell_type": "markdown",
   "metadata": {},
   "source": [
    "# F1"
   ]
  },
  {
   "cell_type": "code",
   "execution_count": 63,
   "metadata": {},
   "outputs": [
    {
     "name": "stdout",
     "output_type": "stream",
     "text": [
      "[['10'], ['80'], ['30'], ['40'], ['60'], ['50']]\n"
     ]
    },
    {
     "data": {
      "text/plain": [
       "\"[[['10'], ['80'], ['30'], ['40'], ['60'], ['50']]]\""
      ]
     },
     "execution_count": 63,
     "metadata": {},
     "output_type": "execute_result"
    }
   ],
   "source": [
    "global support\n",
    "support ={}\n",
    "F = []\n",
    "def F1(count, MIS, L):\n",
    "    temp_F = []\n",
    "    for i in L:\n",
    "    #     print(i)\n",
    "        if count[tuple(i)]/no_trans >= MIS[i[0]]:\n",
    "            temp_F.append(i)\n",
    "            support[tuple(i)] = round(count[tuple(i)]/no_trans,3)\n",
    "    return temp_F\n",
    "\n",
    "temp_F = F1(count, MIS, L)\n",
    "print(temp_F)\n",
    "F.append(sort(temp_F, order, mis_rest))\n",
    "str(F)"
   ]
  },
  {
   "cell_type": "code",
   "execution_count": 20,
   "metadata": {},
   "outputs": [
    {
     "data": {
      "text/plain": [
       "\"{('10',): 0.403, ('80',): 0.29, ('30',): 0.484, ('40',): 0.419, ('60',): 0.742, ('50',): 0.935}\""
      ]
     },
     "execution_count": 20,
     "metadata": {},
     "output_type": "execute_result"
    }
   ],
   "source": [
    "str(support)"
   ]
  },
  {
   "cell_type": "code",
   "execution_count": 21,
   "metadata": {},
   "outputs": [
    {
     "data": {
      "text/plain": [
       "\"[[['10', '80'], ['10', '30'], ['10', '40'], ['10', '60'], ['10', '20'], ['10', '70'], ['80', '30'], ['80', '40'], ['80', '20'], ['80', '70'], ['30', '40'], ['30', '60'], ['30', '20'], ['30', '70'], ['40', '60'], ['40', '20'], ['40', '70'], ['60', '20'], ['60', '70'], ['60', '50'], ['20', '70'], ['70', '50']]]\""
      ]
     },
     "execution_count": 21,
     "metadata": {},
     "output_type": "execute_result"
    }
   ],
   "source": [
    "def level2_candidate(L,sdc, support):\n",
    "    temp_c =[]\n",
    "    for i in range(len(L)):\n",
    "#         print('\\n')\n",
    "#         print(L[i])\n",
    "        j = i+1\n",
    "        while j < len(L):\n",
    "            \n",
    "#             print(j)\n",
    "#             print(L[j])\n",
    "            if count[tuple(L[j])]/no_trans >= MIS[L[i][0]] and abs(count[tuple(L[j])]/no_trans - count[tuple(L[i])]/no_trans) <= sdc:\n",
    "                temp_c.append(sort([L[i][0], L[j][0]], order, mis_rest))\n",
    "\n",
    "            j += 1\n",
    "#         print(z)\n",
    "    return temp_c\n",
    "C = []                    \n",
    "C.append(level2_candidate(L, sdc, support))\n",
    "str(C)\n",
    "            \n",
    "        "
   ]
  },
  {
   "cell_type": "code",
   "execution_count": 22,
   "metadata": {},
   "outputs": [],
   "source": [
    "def support_count(a, data):\n",
    "    for i in a:\n",
    "#         print(i)\n",
    "        count[tuple(i)] = 0\n",
    "        for j in data:            \n",
    "            if all(x in j for x in i):\n",
    "                count[tuple(i)] += 1\n",
    "    return count\n",
    "    "
   ]
  },
  {
   "cell_type": "code",
   "execution_count": null,
   "metadata": {},
   "outputs": [],
   "source": []
  },
  {
   "cell_type": "markdown",
   "metadata": {},
   "source": [
    "# F2"
   ]
  },
  {
   "cell_type": "code",
   "execution_count": 23,
   "metadata": {},
   "outputs": [],
   "source": [
    "def freq_gen(t, data):\n",
    "    temp_f =[]\n",
    "    for i in t:\n",
    "#         print(i)\n",
    "        temp_c = 0\n",
    "        for j in data:\n",
    "            if all(x in j for x in i):\n",
    "                temp_c += 1\n",
    "        if temp_c/no_trans >= MIS[i[0]]:\n",
    "#             print(temp_c/no_trans)\n",
    "#             print(MIS[i[0]])\n",
    "            temp_f.append(i)\n",
    "            support[tuple(i)] = round(temp_c/no_trans,3)\n",
    "    return support, temp_f\n",
    "        \n",
    "support, temp_f = freq_gen(C[0], data)\n",
    "F.append(temp_f)\n"
   ]
  },
  {
   "cell_type": "code",
   "execution_count": 24,
   "metadata": {},
   "outputs": [
    {
     "data": {
      "text/plain": [
       "\"[[['10'], ['80'], ['30'], ['40'], ['60'], ['50']], [['10', '80'], ['10', '30'], ['10', '40'], ['10', '60'], ['10', '20'], ['10', '70'], ['30', '60'], ['30', '70'], ['60', '70'], ['60', '50']]]\""
      ]
     },
     "execution_count": 24,
     "metadata": {},
     "output_type": "execute_result"
    }
   ],
   "source": [
    "str(F)"
   ]
  },
  {
   "cell_type": "code",
   "execution_count": 25,
   "metadata": {},
   "outputs": [
    {
     "data": {
      "text/plain": [
       "\"{('10',): 0.403, ('80',): 0.29, ('30',): 0.484, ('40',): 0.419, ('60',): 0.742, ('50',): 0.935, ('10', '80'): 0.129, ('10', '30'): 0.161, ('10', '40'): 0.145, ('10', '60'): 0.29, ('10', '20'): 0.177, ('10', '70'): 0.226, ('30', '60'): 0.323, ('30', '70'): 0.355, ('60', '70'): 0.435, ('60', '50'): 0.742}\""
      ]
     },
     "execution_count": 25,
     "metadata": {},
     "output_type": "execute_result"
    }
   ],
   "source": [
    "str(support)"
   ]
  },
  {
   "cell_type": "code",
   "execution_count": 26,
   "metadata": {},
   "outputs": [
    {
     "data": {
      "text/plain": [
       "\"{('10',): 25, ('80',): 18, ('30',): 30, ('40',): 26, ('60',): 46, ('20',): 30, ('70',): 41, ('50',): 58}\""
      ]
     },
     "execution_count": 26,
     "metadata": {},
     "output_type": "execute_result"
    }
   ],
   "source": [
    "# count = support_count(F[1], data, count)\n",
    "str(count)"
   ]
  },
  {
   "cell_type": "code",
   "execution_count": null,
   "metadata": {},
   "outputs": [],
   "source": []
  },
  {
   "cell_type": "markdown",
   "metadata": {},
   "source": [
    "# Candidate generation from k = 3"
   ]
  },
  {
   "cell_type": "code",
   "execution_count": 27,
   "metadata": {},
   "outputs": [],
   "source": [
    "# def MS_candidate(f, sdc):\n",
    "#     temp_c =[]\n",
    "#     length = len(f)\n",
    "#     count = support_count(f, data)\n",
    "# #     print(count)\n",
    "# #     print(length)\n",
    "#     for i in range (0,length):\n",
    "#         element = str(f[i][:-1])\n",
    "#         for j in range (i+1,length):\n",
    "#             element1 = str(f[j][:-1])\n",
    "# #             print(element1)\n",
    "#             if element[0:(len(element)-1)] == element1[0:(len(element1)-1)] and abs(count[tuple([f[i][len(f[i])-1]])]/no_trans - count[tuple([f[j][len(f[j])-1]])]/no_trans) <= sdc:\n",
    "#                 temp_comb = list(set(f[i] + f[j]))\n",
    "# #                 print(temp_comb)\n",
    "# #                 print(z)\n",
    "#                 comb = sort(temp_comb, order, mis_rest)\n",
    "# #                 print(comb)\n",
    "# #                 print(z)\n",
    "#                 temp_c.append(comb)\n",
    "#                 for k in range(1,len(comb)+1):\n",
    "#                     s = comb[:k-1] + comb[k:]\n",
    "# #                     print(s)\n",
    "#                     if comb[0] in s or MIS[comb[1]] == MIS[comb[0]]:\n",
    "#                         if s not in f:\n",
    "#                             print('t')\n",
    "#                             temp_c.remove(comb)\n",
    "#                             break\n",
    "#     return temp_c\n",
    "\n",
    "\n"
   ]
  },
  {
   "cell_type": "code",
   "execution_count": 28,
   "metadata": {},
   "outputs": [],
   "source": [
    "def MS_candidate(f, sdc):\n",
    "    temp_c =[]\n",
    "    length = len(f)\n",
    "#         print(f)\n",
    "#         print(z)\n",
    "    count = support_count(f, data)\n",
    "    for i in f:\n",
    "        for j in f:\n",
    "            if i != j:\n",
    "#                     print(i)\n",
    "#                     print(i[len(i)-1])\n",
    "                if (i[len(i)-1] < j[len(j)-1]) and (i[:-1] == j[:-1]) and abs(count[tuple([i[len(i)-1]])]/no_trans - count[tuple([j[len(j)-1]])]/no_trans) <= sdc:\n",
    "                    temp_comb = list(set(i + j))\n",
    "                    comb = sort(temp_comb, order, mis_rest)\n",
    "                    temp_c.append(comb)\n",
    "\n",
    "## I used the code from: https://github.com/sudhanshugupta09/MS-Apriori_Algorithm/blob/master/candidateGen.py\n",
    "## to check for subsets\n",
    "\n",
    "## Checking Subsets\n",
    "                    for k in range(1,len(comb)+1):\n",
    "                        s = comb[:k-1] + comb[k:]\n",
    "                        if comb[0] in s or MIS[comb[1]] == MIS[comb[0]]:\n",
    "                            if s not in f:\n",
    "                                temp_c.remove(comb)\n",
    "                                break\n",
    "    return temp_c"
   ]
  },
  {
   "cell_type": "code",
   "execution_count": 29,
   "metadata": {},
   "outputs": [
    {
     "data": {
      "text/plain": [
       "\"[[['10', '80'], ['10', '30'], ['10', '40'], ['10', '60'], ['10', '20'], ['10', '70'], ['80', '30'], ['80', '40'], ['80', '20'], ['80', '70'], ['30', '40'], ['30', '60'], ['30', '20'], ['30', '70'], ['40', '60'], ['40', '20'], ['40', '70'], ['60', '20'], ['60', '70'], ['60', '50'], ['20', '70'], ['70', '50']], [['10', '80', '30'], ['10', '80', '40'], ['10', '80', '20'], ['10', '80', '70'], ['10', '30', '40'], ['10', '30', '60'], ['10', '30', '20'], ['10', '30', '70'], ['10', '40', '60'], ['10', '40', '20'], ['10', '40', '70'], ['10', '60', '20'], ['10', '60', '70'], ['10', '20', '70'], ['30', '60', '70'], ['60', '70', '50']]]\""
      ]
     },
     "execution_count": 29,
     "metadata": {},
     "output_type": "execute_result"
    }
   ],
   "source": [
    "C.append(MS_candidate(F[1], sdc))\n",
    "str(C)"
   ]
  },
  {
   "cell_type": "code",
   "execution_count": 30,
   "metadata": {},
   "outputs": [],
   "source": [
    "# MS_candidate([[6, 8], [6, 1], [6, 2],[8, 1], [8, 2], [1, 2]], 0.003, support)"
   ]
  },
  {
   "cell_type": "code",
   "execution_count": null,
   "metadata": {},
   "outputs": [],
   "source": []
  },
  {
   "cell_type": "code",
   "execution_count": 31,
   "metadata": {},
   "outputs": [],
   "source": [
    "temp_s, temp_f = freq_gen(C[1], data)\n",
    "F.append(temp_f)\n",
    "support.update(temp_s)"
   ]
  },
  {
   "cell_type": "code",
   "execution_count": 32,
   "metadata": {},
   "outputs": [
    {
     "data": {
      "text/plain": [
       "\"[[['10'], ['80'], ['30'], ['40'], ['60'], ['50']], [['10', '80'], ['10', '30'], ['10', '40'], ['10', '60'], ['10', '20'], ['10', '70'], ['30', '60'], ['30', '70'], ['60', '70'], ['60', '50']], [['10', '30', '60'], ['10', '30', '70'], ['10', '60', '20'], ['10', '60', '70'], ['60', '70', '50']]]\""
      ]
     },
     "execution_count": 32,
     "metadata": {},
     "output_type": "execute_result"
    }
   ],
   "source": [
    "str(F)"
   ]
  },
  {
   "cell_type": "code",
   "execution_count": 33,
   "metadata": {},
   "outputs": [
    {
     "data": {
      "text/plain": [
       "\"{('10',): 0.403, ('80',): 0.29, ('30',): 0.484, ('40',): 0.419, ('60',): 0.742, ('50',): 0.935, ('10', '80'): 0.129, ('10', '30'): 0.161, ('10', '40'): 0.145, ('10', '60'): 0.29, ('10', '20'): 0.177, ('10', '70'): 0.226, ('30', '60'): 0.323, ('30', '70'): 0.355, ('60', '70'): 0.435, ('60', '50'): 0.742, ('10', '30', '60'): 0.129, ('10', '30', '70'): 0.113, ('10', '60', '20'): 0.145, ('10', '60', '70'): 0.145, ('60', '70', '50'): 0.435}\""
      ]
     },
     "execution_count": 33,
     "metadata": {},
     "output_type": "execute_result"
    }
   ],
   "source": [
    "str(support)"
   ]
  },
  {
   "cell_type": "code",
   "execution_count": 34,
   "metadata": {},
   "outputs": [
    {
     "data": {
      "text/plain": [
       "\"[[['10', '80'], ['10', '30'], ['10', '40'], ['10', '60'], ['10', '20'], ['10', '70'], ['80', '30'], ['80', '40'], ['80', '20'], ['80', '70'], ['30', '40'], ['30', '60'], ['30', '20'], ['30', '70'], ['40', '60'], ['40', '20'], ['40', '70'], ['60', '20'], ['60', '70'], ['60', '50'], ['20', '70'], ['70', '50']], [['10', '80', '30'], ['10', '80', '40'], ['10', '80', '20'], ['10', '80', '70'], ['10', '30', '40'], ['10', '30', '60'], ['10', '30', '20'], ['10', '30', '70'], ['10', '40', '60'], ['10', '40', '20'], ['10', '40', '70'], ['10', '60', '20'], ['10', '60', '70'], ['10', '20', '70'], ['30', '60', '70'], ['60', '70', '50']], [['10', '30', '60', '70']]]\""
      ]
     },
     "execution_count": 34,
     "metadata": {},
     "output_type": "execute_result"
    }
   ],
   "source": [
    "C.append(MS_candidate(F[2], sdc))\n",
    "str(C)"
   ]
  },
  {
   "cell_type": "code",
   "execution_count": 35,
   "metadata": {},
   "outputs": [],
   "source": [
    "temp_s, temp_f = freq_gen(C[2], data)\n",
    "F.append(temp_f)\n",
    "support.update(temp_s)"
   ]
  },
  {
   "cell_type": "code",
   "execution_count": 36,
   "metadata": {},
   "outputs": [
    {
     "data": {
      "text/plain": [
       "\"[[['10'], ['80'], ['30'], ['40'], ['60'], ['50']], [['10', '80'], ['10', '30'], ['10', '40'], ['10', '60'], ['10', '20'], ['10', '70'], ['30', '60'], ['30', '70'], ['60', '70'], ['60', '50']], [['10', '30', '60'], ['10', '30', '70'], ['10', '60', '20'], ['10', '60', '70'], ['60', '70', '50']], []]\""
      ]
     },
     "execution_count": 36,
     "metadata": {},
     "output_type": "execute_result"
    }
   ],
   "source": [
    "str(F)"
   ]
  },
  {
   "cell_type": "code",
   "execution_count": 37,
   "metadata": {},
   "outputs": [
    {
     "data": {
      "text/plain": [
       "[['10'], ['80'], ['30'], ['40'], ['60'], ['50']]"
      ]
     },
     "execution_count": 37,
     "metadata": {},
     "output_type": "execute_result"
    }
   ],
   "source": [
    "F[0]"
   ]
  },
  {
   "cell_type": "code",
   "execution_count": 38,
   "metadata": {},
   "outputs": [
    {
     "data": {
      "text/plain": [
       "[['10', '80'],\n",
       " ['10', '30'],\n",
       " ['10', '40'],\n",
       " ['10', '60'],\n",
       " ['10', '20'],\n",
       " ['10', '70'],\n",
       " ['30', '60'],\n",
       " ['30', '70'],\n",
       " ['60', '70'],\n",
       " ['60', '50']]"
      ]
     },
     "execution_count": 38,
     "metadata": {},
     "output_type": "execute_result"
    }
   ],
   "source": [
    "F[1]"
   ]
  },
  {
   "cell_type": "code",
   "execution_count": 39,
   "metadata": {},
   "outputs": [
    {
     "data": {
      "text/plain": [
       "[['10', '30', '60'],\n",
       " ['10', '30', '70'],\n",
       " ['10', '60', '20'],\n",
       " ['10', '60', '70'],\n",
       " ['60', '70', '50']]"
      ]
     },
     "execution_count": 39,
     "metadata": {},
     "output_type": "execute_result"
    }
   ],
   "source": [
    "F[2]"
   ]
  },
  {
   "cell_type": "code",
   "execution_count": 40,
   "metadata": {},
   "outputs": [
    {
     "data": {
      "text/plain": [
       "\"[[['10', '80'], ['10', '30'], ['10', '40'], ['10', '60'], ['10', '20'], ['10', '70'], ['80', '30'], ['80', '40'], ['80', '20'], ['80', '70'], ['30', '40'], ['30', '60'], ['30', '20'], ['30', '70'], ['40', '60'], ['40', '20'], ['40', '70'], ['60', '20'], ['60', '70'], ['60', '50'], ['20', '70'], ['70', '50']], [['10', '80', '30'], ['10', '80', '40'], ['10', '80', '20'], ['10', '80', '70'], ['10', '30', '40'], ['10', '30', '60'], ['10', '30', '20'], ['10', '30', '70'], ['10', '40', '60'], ['10', '40', '20'], ['10', '40', '70'], ['10', '60', '20'], ['10', '60', '70'], ['10', '20', '70'], ['30', '60', '70'], ['60', '70', '50']], [['10', '30', '60', '70']], []]\""
      ]
     },
     "execution_count": 40,
     "metadata": {},
     "output_type": "execute_result"
    }
   ],
   "source": [
    "C.append(MS_candidate(F[3], sdc))\n",
    "str(C)"
   ]
  },
  {
   "cell_type": "code",
   "execution_count": 41,
   "metadata": {},
   "outputs": [],
   "source": [
    "temp_s, temp_f = freq_gen(C[3], data)\n",
    "F.append(temp_f)\n",
    "support.update(temp_s)"
   ]
  },
  {
   "cell_type": "code",
   "execution_count": 42,
   "metadata": {},
   "outputs": [
    {
     "data": {
      "text/plain": [
       "\"[[['10'], ['80'], ['30'], ['40'], ['60'], ['50']], [['10', '80'], ['10', '30'], ['10', '40'], ['10', '60'], ['10', '20'], ['10', '70'], ['30', '60'], ['30', '70'], ['60', '70'], ['60', '50']], [['10', '30', '60'], ['10', '30', '70'], ['10', '60', '20'], ['10', '60', '70'], ['60', '70', '50']], [], []]\""
      ]
     },
     "execution_count": 42,
     "metadata": {},
     "output_type": "execute_result"
    }
   ],
   "source": [
    "str(F)"
   ]
  },
  {
   "cell_type": "code",
   "execution_count": 43,
   "metadata": {},
   "outputs": [
    {
     "data": {
      "text/plain": [
       "[]"
      ]
     },
     "execution_count": 43,
     "metadata": {},
     "output_type": "execute_result"
    }
   ],
   "source": [
    "F[3]"
   ]
  },
  {
   "cell_type": "code",
   "execution_count": 44,
   "metadata": {},
   "outputs": [
    {
     "data": {
      "text/plain": [
       "{('10',): 25,\n",
       " ('80',): 18,\n",
       " ('30',): 30,\n",
       " ('40',): 26,\n",
       " ('60',): 46,\n",
       " ('20',): 30,\n",
       " ('70',): 41,\n",
       " ('50',): 58,\n",
       " ('10', '80'): 8,\n",
       " ('10', '30'): 10,\n",
       " ('10', '40'): 9,\n",
       " ('10', '60'): 18,\n",
       " ('10', '20'): 11,\n",
       " ('10', '70'): 14,\n",
       " ('30', '60'): 20,\n",
       " ('30', '70'): 22,\n",
       " ('60', '70'): 27,\n",
       " ('60', '50'): 46,\n",
       " ('10', '30', '60'): 8,\n",
       " ('10', '30', '70'): 7,\n",
       " ('10', '60', '20'): 9,\n",
       " ('10', '60', '70'): 9,\n",
       " ('60', '70', '50'): 27}"
      ]
     },
     "execution_count": 44,
     "metadata": {},
     "output_type": "execute_result"
    }
   ],
   "source": [
    "count"
   ]
  },
  {
   "cell_type": "code",
   "execution_count": null,
   "metadata": {},
   "outputs": [],
   "source": []
  },
  {
   "cell_type": "code",
   "execution_count": 23,
   "metadata": {},
   "outputs": [
    {
     "name": "stdout",
     "output_type": "stream",
     "text": [
      "(Length-1 6\n",
      "     (10)\n",
      "     (80)\n",
      "     (30)\n",
      "     (40)\n",
      "     (60)\n",
      "     (50)\n",
      ")\n",
      "(Length-2 10\n",
      "     (10 80)\n",
      "     (10 30)\n",
      "     (10 40)\n",
      "     (10 60)\n",
      "     (10 20)\n",
      "     (10 70)\n",
      "     (30 60)\n",
      "     (30 70)\n",
      "     (60 70)\n",
      "     (60 50)\n",
      ")\n",
      "(Length-3 5\n",
      "     (10 30 60)\n",
      "     (10 30 70)\n",
      "     (10 60 70)\n",
      "     (10 60 20)\n",
      "     (60 70 50)\n",
      ")\n"
     ]
    }
   ],
   "source": [
    "import numpy as np\n",
    "import os\n",
    "\n",
    "def freq_itemsets(file_path, sampletxt, mistxt):\n",
    "    def get_mis(MIS):\n",
    "        ms = {}\n",
    "        sdc =1\n",
    "        mis_rest =0\n",
    "        for i in MIS:\n",
    "            if 'SDC' in i[0] or 'sdc' in i[0]:\n",
    "                sdc = float(i[1])\n",
    "            elif 'MIS(rest)' in i[0] or 'rest' in i[0]:\n",
    "                mis_rest = float(i[1])\n",
    "            else: \n",
    "                dc = i[0].replace('MIS(', '').replace(')', '')\n",
    "                ms[dc] =  float(i[1])\n",
    "        return ms, mis_rest, sdc\n",
    "    \n",
    "\n",
    "    def get_items(data):\n",
    "        temp6 =[]\n",
    "        for i in data:\n",
    "            for j in i:\n",
    "                temp6.append(str(j))\n",
    "        return np.unique(temp6)\n",
    "\n",
    "    \n",
    "    def all_mis(MIS_temp, items):\n",
    "        MIS ={}\n",
    "        for i in items:\n",
    "            try:\n",
    "                MIS[i] = MIS_temp[i]\n",
    "            except:\n",
    "                MIS[i] = mis_rest\n",
    "        return MIS\n",
    "    \n",
    "\n",
    "    def sort(a, MIS):\n",
    "        temp5 = {} \n",
    "        try: \n",
    "            for i in a:\n",
    "                temp5[i] = MIS[str(i)] \n",
    "            l = [i[0] for i in sorted(temp5.items(), key = lambda x: x[1])]\n",
    "            \n",
    "    # This is for 1-frequent itemsets\n",
    "        except:\n",
    "            for i in a:\n",
    "                temp5[i[0]] = MIS[i[0]] \n",
    "            l = [[i[0]] for i in sorted(temp5.items(), key = lambda x: x[1])]            \n",
    "\n",
    "        return l\n",
    "    \n",
    "\n",
    "    def order(M):\n",
    "        order ={}\n",
    "        \n",
    "        for (i,j) in list(enumerate(M)):\n",
    "            order[j] = i\n",
    "            \n",
    "        return order\n",
    "    \n",
    " \n",
    "    def first_counting(M, data_sorted):\n",
    "        for i in M:\n",
    "            count[tuple([i])] = 0\n",
    "        for i in data_sorted:\n",
    "            for j in i:\n",
    "                count[tuple([j])] += 1\n",
    "\n",
    "                \n",
    "    def init_pass(M,MIS):\n",
    "        temp_L = []\n",
    "        flag = True\n",
    "        for i in M:\n",
    "            if count[tuple([i])]/no_trans >= MIS[i] and flag:\n",
    "                temp_L.append([i])\n",
    "                min_mis = MIS[i]\n",
    "                flag = False\n",
    "\n",
    "            elif not flag:\n",
    "                if count[tuple([i])]/no_trans >= min_mis:\n",
    "                    temp_L.append([i])\n",
    "                    \n",
    "        return temp_L\n",
    "    \n",
    "\n",
    "            \n",
    "    def F1(count, MIS, L):\n",
    "        temp_F = []\n",
    "        for i in L:\n",
    "            if count[tuple(i)]/no_trans >= MIS[i[0]]:\n",
    "                temp_F.append(i)\n",
    "                support[tuple(i)] = count[tuple(i)]/no_trans\n",
    "        return temp_F\n",
    "    \n",
    "\n",
    "    def level2_candidate(L,sdc, support):\n",
    "        temp_c = []\n",
    "        for i in range(len(L)):\n",
    "            if count[tuple(L[i])]/no_trans >= MIS[L[i][0]]:\n",
    "                j = i+1\n",
    "                while j < len(L):\n",
    "                    if count[tuple(L[j])]/no_trans >= MIS[L[i][0]] and abs(count[tuple(L[j])]/no_trans - count[tuple(L[i])]/no_trans) <= sdc:\n",
    "                        temp_c.append(sort([L[i][0], L[j][0]], order))\n",
    "                    j += 1\n",
    "        return temp_c\n",
    "    \n",
    "\n",
    "    def support_count(a, data):\n",
    "        for i in a:\n",
    "            count[tuple(i)] = 0\n",
    "            for j in data:            \n",
    "                if all(x in j for x in i):\n",
    "                    count[tuple(i)] += 1\n",
    "        return count\n",
    "    \n",
    "\n",
    "    def freq_gen(t, data):\n",
    "        temp_f =[]\n",
    "        for i in t:\n",
    "            temp_c = 0\n",
    "            for j in data:\n",
    "                if all(x in j for x in i):\n",
    "                    temp_c += 1\n",
    "            if temp_c/no_trans >= MIS[i[0]]:\n",
    "                temp_f.append(i)\n",
    "                support[tuple(i)] = temp_c/no_trans\n",
    "        return support, temp_f\n",
    "    \n",
    "\n",
    "    def MS_candidate(f, sdc):\n",
    "        temp_c =[]\n",
    "        length = len(f)\n",
    "#         print(f)\n",
    "#         print(z)\n",
    "        count = support_count(f, data)\n",
    "        for i in f:\n",
    "            for j in f:\n",
    "                if i != j:\n",
    "#                     print(i)\n",
    "#                     print(i[len(i)-1])\n",
    "                    if (i[len(i)-1] < j[len(j)-1]) and (i[:-1] == j[:-1]) and abs(count[tuple([i[len(i)-1]])]/no_trans - count[tuple([j[len(j)-1]])]/no_trans) <= sdc:\n",
    "                        temp_comb = list(set(i + j))\n",
    "                        comb = sort(temp_comb, order)\n",
    "                        temp_c.append(comb)\n",
    "\n",
    "## I used the code from: https://github.com/sudhanshugupta09/MS-Apriori_Algorithm/blob/master/candidateGen.py\n",
    "## to check for subsets\n",
    "\n",
    "## Checking Subsets\n",
    "                        for k in range(1,len(comb)+1):\n",
    "                            s = comb[:k-1] + comb[k:]\n",
    "                            if comb[0] in s or MIS[comb[1]] == MIS[comb[0]]:\n",
    "                                if s not in f:\n",
    "                                    temp_c.remove(comb)\n",
    "                                    break\n",
    "        return temp_c\n",
    "\n",
    "\n",
    "# Loading transactions data\n",
    "\n",
    "    temp = np.loadtxt(fname = os.path.join(file_path, sampletxt), delimiter= '\\n', dtype= str)\n",
    "    data_temp = [i.replace('{','').replace('}', '').split(', ') for i in temp]\n",
    "    data = [[i for i in j] for j in data_temp]\n",
    "    no_trans = len(data)\n",
    "\n",
    "# Loading parameters\n",
    "\n",
    "    temp2 = np.loadtxt(fname = os.path.join(file_path, mistxt), delimiter= '\\n', dtype= str)\n",
    "    MIS_temp = [i.split(' = ') for i in temp2]\n",
    "    MIS_temp2, mis_rest, sdc = get_mis(MIS_temp)\n",
    "#     print(sdc)\n",
    "\n",
    "# Getting unique items \n",
    "\n",
    "    items = get_items(data)\n",
    "\n",
    "# improving the params file\n",
    "\n",
    "    MIS = all_mis(MIS_temp2, items)   \n",
    "\n",
    "# Sorting the items in each transaction in the ascending order of MIS values\n",
    "\n",
    "    data_sorted = [sort(i, MIS) for i in data]\n",
    "    \n",
    "# Sorting the items in the ascending order of MIS values\n",
    "\n",
    "    M = sort(items, MIS)\n",
    "\n",
    "# Saving the order of the items in different format rather than using MIS values\n",
    "    order = order(M)\n",
    "\n",
    "# First Count\n",
    "\n",
    "#     global count\n",
    "    count ={}\n",
    "    first_counting(M, data_sorted) \n",
    "\n",
    "# Finding L\n",
    "\n",
    "    temp_L =  init_pass(M,MIS)\n",
    "    L = sort(temp_L, order)\n",
    "\n",
    "# Finding F1\n",
    "\n",
    "#     global support\n",
    "    support ={}\n",
    "    F = []    \n",
    "    temp_f = F1(count, MIS, L)\n",
    "    F.append(sort(temp_f, order))\n",
    "    \n",
    "# Level 2 Candidate generation and Finding F2\n",
    "\n",
    "    C = [] \n",
    "    if len(temp_f) != 0:   \n",
    "        temp_c22 = level2_candidate(L, sdc, support)\n",
    "        if len(temp_c22) != 0:\n",
    "            C.append(temp_c22)\n",
    "            support, temp_f = freq_gen(C[0], data)\n",
    "            \n",
    "    if len(temp_f) != 0: \n",
    "        F.append(temp_f)\n",
    "\n",
    "## finding subsequent Frequent itemsets if any\n",
    "\n",
    "    k = 1\n",
    "    while len(temp_f) != 0:\n",
    "\n",
    "        C.append(MS_candidate(F[k], sdc))\n",
    "        temp_s, temp_f = freq_gen(C[k], data)\n",
    "        if len(temp_f) != 0: \n",
    "            F.append(temp_f)\n",
    "            support.update(temp_s)\n",
    "        k += 1\n",
    "#     return F\n",
    "\n",
    "# Converting the output in the required format\n",
    "\n",
    "    for i in range(len(F)):\n",
    "        print('(Length-' + str(i+1) + ' ' + str(len(F[i])))\n",
    "        for j in F[i]:\n",
    "            temp = '     ('\n",
    "            for k in j:\n",
    "                temp += k\n",
    "                if k != j[-1]:\n",
    "                    temp += ' '\n",
    "            temp += ')'\n",
    "            print(temp)\n",
    "        print(')')\n",
    "\n",
    "\n",
    "file_path = r'C:\\Users\\kalya\\OneDrive - University of Illinois at Chicago\\!UIC\\!Semesters\\3rd Sem\\CS 583 Data Mining and Text Mining\\Assignements\\Assignment 1 MSA Algorithm'\n",
    "freq_itemsets(file_path, 'As1_Sample6.txt', 'As1_MIS6.txt')"
   ]
  },
  {
   "cell_type": "code",
   "execution_count": 17,
   "metadata": {},
   "outputs": [
    {
     "name": "stdout",
     "output_type": "stream",
     "text": [
      "(Length-1 7\n",
      "     (100)\n",
      "     (140)\n",
      "     (70)\n",
      "     (80)\n",
      "     (90)\n",
      "     (20)\n",
      "     (30)\n",
      ")\n",
      "(Length-2 32\n",
      "     (100 140)\n",
      "     (100 120)\n",
      "     (100 70)\n",
      "     (100 80)\n",
      "     (100 90)\n",
      "     (100 20)\n",
      "     (100 30)\n",
      "     (100 50)\n",
      "     (140 120)\n",
      "     (140 70)\n",
      "     (140 80)\n",
      "     (140 90)\n",
      "     (140 20)\n",
      "     (140 30)\n",
      "     (140 50)\n",
      "     (70 80)\n",
      "     (70 90)\n",
      "     (70 20)\n",
      "     (70 30)\n",
      "     (70 50)\n",
      "     (80 90)\n",
      "     (80 20)\n",
      "     (80 30)\n",
      "     (80 50)\n",
      "     (80 10)\n",
      "     (90 20)\n",
      "     (90 30)\n",
      "     (90 50)\n",
      "     (20 30)\n",
      "     (20 50)\n",
      "     (20 10)\n",
      "     (30 50)\n",
      ")\n",
      "(Length-3 70\n",
      "     (100 140 70)\n",
      "     (100 140 80)\n",
      "     (100 140 90)\n",
      "     (100 140 20)\n",
      "     (100 140 30)\n",
      "     (100 140 50)\n",
      "     (100 140 120)\n",
      "     (100 120 70)\n",
      "     (100 120 80)\n",
      "     (100 120 90)\n",
      "     (100 120 20)\n",
      "     (100 120 30)\n",
      "     (100 120 50)\n",
      "     (100 70 80)\n",
      "     (100 70 90)\n",
      "     (100 80 90)\n",
      "     (100 70 20)\n",
      "     (100 80 20)\n",
      "     (100 90 20)\n",
      "     (100 20 30)\n",
      "     (100 20 50)\n",
      "     (100 70 30)\n",
      "     (100 80 30)\n",
      "     (100 90 30)\n",
      "     (100 30 50)\n",
      "     (100 70 50)\n",
      "     (100 80 50)\n",
      "     (100 90 50)\n",
      "     (140 120 70)\n",
      "     (140 120 80)\n",
      "     (140 120 90)\n",
      "     (140 120 20)\n",
      "     (140 120 30)\n",
      "     (140 120 50)\n",
      "     (140 70 80)\n",
      "     (140 70 90)\n",
      "     (140 80 90)\n",
      "     (140 70 20)\n",
      "     (140 80 20)\n",
      "     (140 90 20)\n",
      "     (140 20 30)\n",
      "     (140 20 50)\n",
      "     (140 70 30)\n",
      "     (140 80 30)\n",
      "     (140 90 30)\n",
      "     (140 30 50)\n",
      "     (140 70 50)\n",
      "     (140 80 50)\n",
      "     (140 90 50)\n",
      "     (70 80 90)\n",
      "     (70 80 20)\n",
      "     (70 90 20)\n",
      "     (70 20 30)\n",
      "     (70 20 50)\n",
      "     (70 80 30)\n",
      "     (70 90 30)\n",
      "     (70 30 50)\n",
      "     (70 80 50)\n",
      "     (70 90 50)\n",
      "     (80 90 20)\n",
      "     (80 20 30)\n",
      "     (80 20 50)\n",
      "     (80 90 30)\n",
      "     (80 30 50)\n",
      "     (80 90 50)\n",
      "     (80 20 10)\n",
      "     (90 20 30)\n",
      "     (90 20 50)\n",
      "     (90 30 50)\n",
      "     (20 30 50)\n",
      ")\n",
      "(Length-4 106\n",
      "     (100 140 70 80)\n",
      "     (100 140 70 90)\n",
      "     (100 140 80 90)\n",
      "     (100 140 70 20)\n",
      "     (100 140 80 20)\n",
      "     (100 140 90 20)\n",
      "     (100 140 20 30)\n",
      "     (100 140 20 50)\n",
      "     (100 140 70 30)\n",
      "     (100 140 80 30)\n",
      "     (100 140 90 30)\n",
      "     (100 140 30 50)\n",
      "     (100 140 70 50)\n",
      "     (100 140 80 50)\n",
      "     (100 140 90 50)\n",
      "     (100 140 120 70)\n",
      "     (100 140 120 80)\n",
      "     (100 140 120 90)\n",
      "     (100 140 120 20)\n",
      "     (100 140 120 30)\n",
      "     (100 140 120 50)\n",
      "     (100 120 70 80)\n",
      "     (100 120 70 90)\n",
      "     (100 120 80 90)\n",
      "     (100 120 70 20)\n",
      "     (100 120 80 20)\n",
      "     (100 120 90 20)\n",
      "     (100 120 20 30)\n",
      "     (100 120 20 50)\n",
      "     (100 120 70 30)\n",
      "     (100 120 80 30)\n",
      "     (100 120 90 30)\n",
      "     (100 120 30 50)\n",
      "     (100 120 70 50)\n",
      "     (100 120 80 50)\n",
      "     (100 120 90 50)\n",
      "     (100 70 80 90)\n",
      "     (100 70 80 20)\n",
      "     (100 70 90 20)\n",
      "     (100 70 20 30)\n",
      "     (100 70 20 50)\n",
      "     (100 80 90 20)\n",
      "     (100 80 20 30)\n",
      "     (100 80 20 50)\n",
      "     (100 90 20 30)\n",
      "     (100 90 20 50)\n",
      "     (100 20 30 50)\n",
      "     (100 70 80 30)\n",
      "     (100 70 90 30)\n",
      "     (100 70 30 50)\n",
      "     (100 80 90 30)\n",
      "     (100 80 30 50)\n",
      "     (100 90 30 50)\n",
      "     (100 70 80 50)\n",
      "     (100 70 90 50)\n",
      "     (100 80 90 50)\n",
      "     (140 120 70 80)\n",
      "     (140 120 70 90)\n",
      "     (140 120 80 90)\n",
      "     (140 120 70 20)\n",
      "     (140 120 80 20)\n",
      "     (140 120 90 20)\n",
      "     (140 120 20 30)\n",
      "     (140 120 20 50)\n",
      "     (140 120 70 30)\n",
      "     (140 120 80 30)\n",
      "     (140 120 90 30)\n",
      "     (140 120 30 50)\n",
      "     (140 120 70 50)\n",
      "     (140 120 80 50)\n",
      "     (140 120 90 50)\n",
      "     (140 70 80 90)\n",
      "     (140 70 80 20)\n",
      "     (140 70 90 20)\n",
      "     (140 70 20 30)\n",
      "     (140 70 20 50)\n",
      "     (140 80 90 20)\n",
      "     (140 80 20 30)\n",
      "     (140 80 20 50)\n",
      "     (140 90 20 30)\n",
      "     (140 90 20 50)\n",
      "     (140 20 30 50)\n",
      "     (140 70 80 30)\n",
      "     (140 70 90 30)\n",
      "     (140 70 30 50)\n",
      "     (140 80 90 30)\n",
      "     (140 80 30 50)\n",
      "     (140 90 30 50)\n",
      "     (140 70 80 50)\n",
      "     (140 70 90 50)\n",
      "     (140 80 90 50)\n",
      "     (70 80 90 20)\n",
      "     (70 80 20 30)\n",
      "     (70 80 20 50)\n",
      "     (70 90 20 30)\n",
      "     (70 90 20 50)\n",
      "     (70 20 30 50)\n",
      "     (70 80 90 30)\n",
      "     (70 80 30 50)\n",
      "     (70 90 30 50)\n",
      "     (70 80 90 50)\n",
      "     (80 90 20 30)\n",
      "     (80 90 20 50)\n",
      "     (80 20 30 50)\n",
      "     (80 90 30 50)\n",
      "     (90 20 30 50)\n",
      ")\n",
      "(Length-5 111\n",
      "     (100 140 70 80 90)\n",
      "     (100 140 70 80 20)\n",
      "     (100 140 70 90 20)\n",
      "     (100 140 70 20 30)\n",
      "     (100 140 70 20 50)\n",
      "     (100 140 80 90 20)\n",
      "     (100 140 80 20 30)\n",
      "     (100 140 80 20 50)\n",
      "     (100 140 90 20 30)\n",
      "     (100 140 90 20 50)\n",
      "     (100 140 20 30 50)\n",
      "     (100 140 70 80 30)\n",
      "     (100 140 70 90 30)\n",
      "     (100 140 70 30 50)\n",
      "     (100 140 80 90 30)\n",
      "     (100 140 80 30 50)\n",
      "     (100 140 90 30 50)\n",
      "     (100 140 70 80 50)\n",
      "     (100 140 70 90 50)\n",
      "     (100 140 80 90 50)\n",
      "     (100 140 120 70 80)\n",
      "     (100 140 120 70 90)\n",
      "     (100 140 120 80 90)\n",
      "     (100 140 120 70 20)\n",
      "     (100 140 120 80 20)\n",
      "     (100 140 120 90 20)\n",
      "     (100 140 120 20 30)\n",
      "     (100 140 120 20 50)\n",
      "     (100 140 120 70 30)\n",
      "     (100 140 120 80 30)\n",
      "     (100 140 120 90 30)\n",
      "     (100 140 120 30 50)\n",
      "     (100 140 120 70 50)\n",
      "     (100 140 120 80 50)\n",
      "     (100 140 120 90 50)\n",
      "     (100 120 70 80 90)\n",
      "     (100 120 70 80 20)\n",
      "     (100 120 70 90 20)\n",
      "     (100 120 70 20 30)\n",
      "     (100 120 70 20 50)\n",
      "     (100 120 80 90 20)\n",
      "     (100 120 80 20 30)\n",
      "     (100 120 80 20 50)\n",
      "     (100 120 90 20 30)\n",
      "     (100 120 90 20 50)\n",
      "     (100 120 20 30 50)\n",
      "     (100 120 70 80 30)\n",
      "     (100 120 70 90 30)\n",
      "     (100 120 70 30 50)\n",
      "     (100 120 80 90 30)\n",
      "     (100 120 80 30 50)\n",
      "     (100 120 90 30 50)\n",
      "     (100 120 70 80 50)\n",
      "     (100 120 70 90 50)\n",
      "     (100 120 80 90 50)\n",
      "     (100 70 80 90 20)\n",
      "     (100 70 80 20 30)\n",
      "     (100 70 80 20 50)\n",
      "     (100 70 90 20 30)\n",
      "     (100 70 90 20 50)\n",
      "     (100 70 20 30 50)\n",
      "     (100 80 90 20 30)\n",
      "     (100 80 90 20 50)\n",
      "     (100 80 20 30 50)\n",
      "     (100 90 20 30 50)\n",
      "     (100 70 80 90 30)\n",
      "     (100 70 80 30 50)\n",
      "     (100 70 90 30 50)\n",
      "     (100 80 90 30 50)\n",
      "     (100 70 80 90 50)\n",
      "     (140 120 70 80 90)\n",
      "     (140 120 70 80 20)\n",
      "     (140 120 70 90 20)\n",
      "     (140 120 70 20 30)\n",
      "     (140 120 70 20 50)\n",
      "     (140 120 80 90 20)\n",
      "     (140 120 80 20 30)\n",
      "     (140 120 80 20 50)\n",
      "     (140 120 90 20 30)\n",
      "     (140 120 90 20 50)\n",
      "     (140 120 20 30 50)\n",
      "     (140 120 70 80 30)\n",
      "     (140 120 70 90 30)\n",
      "     (140 120 70 30 50)\n",
      "     (140 120 80 90 30)\n",
      "     (140 120 80 30 50)\n",
      "     (140 120 90 30 50)\n",
      "     (140 120 70 80 50)\n",
      "     (140 120 70 90 50)\n",
      "     (140 120 80 90 50)\n",
      "     (140 70 80 90 20)\n",
      "     (140 70 80 20 30)\n",
      "     (140 70 80 20 50)\n",
      "     (140 70 90 20 30)\n",
      "     (140 70 90 20 50)\n",
      "     (140 70 20 30 50)\n",
      "     (140 80 90 20 30)\n",
      "     (140 80 90 20 50)\n",
      "     (140 80 20 30 50)\n",
      "     (140 90 20 30 50)\n",
      "     (140 70 80 90 30)\n",
      "     (140 70 80 30 50)\n",
      "     (140 70 90 30 50)\n",
      "     (140 80 90 30 50)\n",
      "     (140 70 80 90 50)\n",
      "     (70 80 90 20 30)\n",
      "     (70 80 90 20 50)\n",
      "     (70 80 20 30 50)\n",
      "     (70 90 20 30 50)\n",
      "     (70 80 90 30 50)\n",
      "     (80 90 20 30 50)\n",
      ")\n",
      "(Length-6 78\n",
      "     (100 140 70 80 90 20)\n",
      "     (100 140 70 80 20 30)\n",
      "     (100 140 70 80 20 50)\n",
      "     (100 140 70 90 20 30)\n",
      "     (100 140 70 90 20 50)\n",
      "     (100 140 70 20 30 50)\n",
      "     (100 140 80 90 20 30)\n",
      "     (100 140 80 90 20 50)\n",
      "     (100 140 80 20 30 50)\n",
      "     (100 140 90 20 30 50)\n",
      "     (100 140 70 80 90 30)\n",
      "     (100 140 70 80 30 50)\n",
      "     (100 140 70 90 30 50)\n",
      "     (100 140 80 90 30 50)\n",
      "     (100 140 70 80 90 50)\n",
      "     (100 140 120 70 80 90)\n",
      "     (100 140 120 70 80 20)\n",
      "     (100 140 120 70 90 20)\n",
      "     (100 140 120 70 20 30)\n",
      "     (100 140 120 70 20 50)\n",
      "     (100 140 120 80 90 20)\n",
      "     (100 140 120 80 20 30)\n",
      "     (100 140 120 80 20 50)\n",
      "     (100 140 120 90 20 30)\n",
      "     (100 140 120 90 20 50)\n",
      "     (100 140 120 20 30 50)\n",
      "     (100 140 120 70 80 30)\n",
      "     (100 140 120 70 90 30)\n",
      "     (100 140 120 70 30 50)\n",
      "     (100 140 120 80 90 30)\n",
      "     (100 140 120 80 30 50)\n",
      "     (100 140 120 90 30 50)\n",
      "     (100 140 120 70 80 50)\n",
      "     (100 140 120 70 90 50)\n",
      "     (100 140 120 80 90 50)\n",
      "     (100 120 70 80 90 20)\n",
      "     (100 120 70 80 20 30)\n",
      "     (100 120 70 80 20 50)\n",
      "     (100 120 70 90 20 30)\n",
      "     (100 120 70 90 20 50)\n",
      "     (100 120 70 20 30 50)\n",
      "     (100 120 80 90 20 30)\n",
      "     (100 120 80 90 20 50)\n",
      "     (100 120 80 20 30 50)\n",
      "     (100 120 90 20 30 50)\n",
      "     (100 120 70 80 90 30)\n",
      "     (100 120 70 80 30 50)\n",
      "     (100 120 70 90 30 50)\n",
      "     (100 120 80 90 30 50)\n",
      "     (100 120 70 80 90 50)\n",
      "     (100 70 80 90 20 30)\n",
      "     (100 70 80 90 20 50)\n",
      "     (100 70 80 20 30 50)\n",
      "     (100 70 90 20 30 50)\n",
      "     (100 80 90 20 30 50)\n",
      "     (100 70 80 90 30 50)\n",
      "     (140 120 70 80 90 20)\n",
      "     (140 120 70 80 20 30)\n",
      "     (140 120 70 80 20 50)\n",
      "     (140 120 70 90 20 30)\n",
      "     (140 120 70 90 20 50)\n",
      "     (140 120 70 20 30 50)\n",
      "     (140 120 80 90 20 30)\n",
      "     (140 120 80 90 20 50)\n",
      "     (140 120 80 20 30 50)\n",
      "     (140 120 90 20 30 50)\n",
      "     (140 120 70 80 90 30)\n",
      "     (140 120 70 80 30 50)\n",
      "     (140 120 70 90 30 50)\n",
      "     (140 120 80 90 30 50)\n",
      "     (140 120 70 80 90 50)\n",
      "     (140 70 80 90 20 30)\n",
      "     (140 70 80 90 20 50)\n",
      "     (140 70 80 20 30 50)\n",
      "     (140 70 90 20 30 50)\n",
      "     (140 80 90 20 30 50)\n",
      "     (140 70 80 90 30 50)\n",
      "     (70 80 90 20 30 50)\n",
      ")\n",
      "(Length-7 35\n",
      "     (100 140 70 80 90 20 30)\n",
      "     (100 140 70 80 90 20 50)\n",
      "     (100 140 70 80 20 30 50)\n",
      "     (100 140 70 90 20 30 50)\n",
      "     (100 140 80 90 20 30 50)\n",
      "     (100 140 70 80 90 30 50)\n",
      "     (100 140 120 70 80 90 20)\n",
      "     (100 140 120 70 80 20 30)\n",
      "     (100 140 120 70 80 20 50)\n",
      "     (100 140 120 70 90 20 30)\n",
      "     (100 140 120 70 90 20 50)\n",
      "     (100 140 120 70 20 30 50)\n",
      "     (100 140 120 80 90 20 30)\n",
      "     (100 140 120 80 90 20 50)\n",
      "     (100 140 120 80 20 30 50)\n",
      "     (100 140 120 90 20 30 50)\n",
      "     (100 140 120 70 80 90 30)\n",
      "     (100 140 120 70 80 30 50)\n",
      "     (100 140 120 70 90 30 50)\n",
      "     (100 140 120 80 90 30 50)\n",
      "     (100 140 120 70 80 90 50)\n",
      "     (100 120 70 80 90 20 30)\n",
      "     (100 120 70 80 90 20 50)\n",
      "     (100 120 70 80 20 30 50)\n",
      "     (100 120 70 90 20 30 50)\n",
      "     (100 120 80 90 20 30 50)\n",
      "     (100 120 70 80 90 30 50)\n",
      "     (100 70 80 90 20 30 50)\n",
      "     (140 120 70 80 90 20 30)\n",
      "     (140 120 70 80 90 20 50)\n",
      "     (140 120 70 80 20 30 50)\n",
      "     (140 120 70 90 20 30 50)\n",
      "     (140 120 80 90 20 30 50)\n",
      "     (140 120 70 80 90 30 50)\n",
      "     (140 70 80 90 20 30 50)\n",
      ")\n",
      "(Length-8 9\n",
      "     (100 140 70 80 90 20 30 50)\n",
      "     (100 140 120 70 80 90 20 30)\n",
      "     (100 140 120 70 80 90 20 50)\n",
      "     (100 140 120 70 80 20 30 50)\n",
      "     (100 140 120 70 90 20 30 50)\n",
      "     (100 140 120 80 90 20 30 50)\n",
      "     (100 140 120 70 80 90 30 50)\n",
      "     (100 120 70 80 90 20 30 50)\n",
      "     (140 120 70 80 90 20 30 50)\n",
      ")\n",
      "(Length-9 1\n",
      "     (100 140 120 70 80 90 20 30 50)\n",
      ")\n"
     ]
    }
   ],
   "source": [
    "import numpy as np\n",
    "import os\n",
    "\n",
    "def freq_itemsets(file_path, sampletxt, mistxt):\n",
    "    def get_mis(MIS):\n",
    "        ms = {}\n",
    "        sdc =100000\n",
    "        mis_rest =0\n",
    "        for i in MIS:\n",
    "            if 'SDC' in i[0]:\n",
    "                sdc = float(i[1])\n",
    "            elif 'MIS(rest)' in i[0] or 'rest' in i[0]:\n",
    "                mis_rest = float(i[1])\n",
    "            else: \n",
    "                dc = i[0].replace('MIS(', '').replace(')', '')\n",
    "                ms[dc] =  float(i[1])\n",
    "        return ms, mis_rest, sdc\n",
    "    \n",
    "\n",
    "    def get_items(data):\n",
    "        temp6 =[]\n",
    "        for i in data:\n",
    "            for j in i:\n",
    "                temp6.append(str(j))\n",
    "        return np.unique(temp6)\n",
    "\n",
    "    \n",
    "    def all_mis(MIS_temp, items):\n",
    "        MIS ={}\n",
    "        for i in items:\n",
    "            try:\n",
    "                MIS[i] = MIS_temp[i]\n",
    "            except:\n",
    "                MIS[i] = mis_rest\n",
    "        return MIS\n",
    "    \n",
    "\n",
    "    def sort(a, MIS):\n",
    "        temp5 = {} \n",
    "        try: \n",
    "            for i in a:\n",
    "                temp5[i] = MIS[str(i)] \n",
    "            l = [i[0] for i in sorted(temp5.items(), key = lambda x: x[1])]\n",
    "            \n",
    "    # This is for 1-frequent itemsets\n",
    "        except:\n",
    "            for i in a:\n",
    "                temp5[i[0]] = MIS[i[0]] \n",
    "            l = [[i[0]] for i in sorted(temp5.items(), key = lambda x: x[1])]            \n",
    "\n",
    "        return l\n",
    "    \n",
    "\n",
    "    def order(M):\n",
    "        order ={}\n",
    "        \n",
    "        for (i,j) in list(enumerate(M)):\n",
    "            order[j] = i\n",
    "            \n",
    "        return order\n",
    "    \n",
    " \n",
    "    def first_counting(M, data_sorted):\n",
    "        for i in M:\n",
    "            count[tuple([i])] = 0\n",
    "        for i in data_sorted:\n",
    "            for j in i:\n",
    "                count[tuple([j])] += 1\n",
    "\n",
    "                \n",
    "    def init_pass(M,MIS):\n",
    "        temp_L = []\n",
    "        flag = True\n",
    "        for i in M:\n",
    "            if count[tuple([i])]/no_trans >= MIS[i] and flag:\n",
    "                temp_L.append([i])\n",
    "                min_mis = MIS[i]\n",
    "                flag = False\n",
    "\n",
    "            elif not flag:\n",
    "                if count[tuple([i])]/no_trans >= min_mis:\n",
    "                    temp_L.append([i])\n",
    "                    \n",
    "        return temp_L\n",
    "    \n",
    "\n",
    "            \n",
    "    def F1(count, MIS, L):\n",
    "        temp_F = []\n",
    "        for i in L:\n",
    "            if count[tuple(i)]/no_trans >= MIS[i[0]]:\n",
    "                temp_F.append(i)\n",
    "                support[tuple(i)] = round(count[tuple(i)]/no_trans,3)\n",
    "        return temp_F\n",
    "    \n",
    "\n",
    "    def level2_candidate(L,sdc, support):\n",
    "        temp_c =[]\n",
    "        for i in range(len(L)):\n",
    "            j = i+1\n",
    "            while j < len(L):\n",
    "                if count[tuple(L[j])]/no_trans >= MIS[L[i][0]] and abs(count[tuple(L[j])]/no_trans - count[tuple(L[i])]/no_trans) <= sdc:\n",
    "                    temp_c.append(sort([L[i][0], L[j][0]], order))\n",
    "                j += 1\n",
    "        return temp_c\n",
    "    \n",
    "\n",
    "    def support_count(a, data):\n",
    "        for i in a:\n",
    "            count[tuple(i)] = 0\n",
    "            for j in data:            \n",
    "                if all(x in j for x in i):\n",
    "                    count[tuple(i)] += 1\n",
    "        return count\n",
    "    \n",
    "\n",
    "    def freq_gen(t, data):\n",
    "        temp_f =[]\n",
    "        for i in t:\n",
    "            temp_c = 0\n",
    "            for j in data:\n",
    "                if all(x in j for x in i):\n",
    "                    temp_c += 1\n",
    "            if temp_c/no_trans >= MIS[i[0]]:\n",
    "                temp_f.append(i)\n",
    "                support[tuple(i)] = round(temp_c/no_trans,3)\n",
    "        return support, temp_f\n",
    "    \n",
    "\n",
    "    def MS_candidate(f, sdc):\n",
    "        temp_c =[]\n",
    "        length = len(f)\n",
    "#         print(f)\n",
    "#         print(z)\n",
    "        count = support_count(f, data)\n",
    "        for i in f:\n",
    "            for j in f:\n",
    "                if i != j:\n",
    "#                     print(i)\n",
    "#                     print(i[len(i)-1])\n",
    "                    if (i[len(i)-1] < j[len(j)-1]) and (i[:-1] == j[:-1]) and abs(count[tuple([i[len(i)-1]])]/no_trans - count[tuple([j[len(j)-1]])]/no_trans) <= sdc:\n",
    "                        temp_comb = list(set(i + j))\n",
    "                        comb = sort(temp_comb, order)\n",
    "                        temp_c.append(comb)\n",
    "\n",
    "## I used the code from: https://github.com/sudhanshugupta09/MS-Apriori_Algorithm/blob/master/candidateGen.py\n",
    "## to check for subsets\n",
    "\n",
    "## Checking Subsets\n",
    "                        for k in range(1,len(comb)+1):\n",
    "                            s = comb[:k-1] + comb[k:]\n",
    "                            if comb[0] in s or MIS[comb[1]] == MIS[comb[0]]:\n",
    "                                if s not in f:\n",
    "                                    temp_c.remove(comb)\n",
    "                                    break\n",
    "        return temp_c\n",
    "\n",
    "\n",
    "# Loading transactions data\n",
    "\n",
    "    temp = np.loadtxt(fname = os.path.join(file_path, sampletxt), delimiter= '\\n', dtype= str)\n",
    "    data_temp = [i.replace('{','').replace('}', '').split(', ') for i in temp]\n",
    "    data = [[i for i in j] for j in data_temp]\n",
    "    no_trans = len(data)\n",
    "\n",
    "# Loading parameters\n",
    "\n",
    "    temp2 = np.loadtxt(fname = os.path.join(file_path, mistxt), delimiter= '\\n', dtype= str)\n",
    "    MIS_temp = [i.split(' = ') for i in temp2]\n",
    "    MIS_temp2, mis_rest, sdc = get_mis(MIS_temp)\n",
    "#     print(sdc)\n",
    "\n",
    "# Getting unique items \n",
    "\n",
    "    items = get_items(data)\n",
    "\n",
    "# improving the params file\n",
    "\n",
    "    MIS = all_mis(MIS_temp2, items)   \n",
    "\n",
    "# Sorting the items in each transaction in the ascending order of MIS values\n",
    "\n",
    "    data_sorted = [sort(i, MIS) for i in data]\n",
    "    \n",
    "# Sorting the items in the ascending order of MIS values\n",
    "\n",
    "    M = sort(items, MIS)\n",
    "\n",
    "# Saving the order of the items in different format rather than using MIS values\n",
    "    order = order(M)\n",
    "\n",
    "# First Count\n",
    "\n",
    "#     global count\n",
    "    count ={}\n",
    "    first_counting(M, data_sorted) \n",
    "\n",
    "# Finding L\n",
    "\n",
    "    temp_L =  init_pass(M,MIS)\n",
    "    L = sort(temp_L, order)\n",
    "\n",
    "# Finding F1\n",
    "\n",
    "#     global support\n",
    "    support ={}\n",
    "    F = []    \n",
    "    temp_f = F1(count, MIS, L)\n",
    "    F.append(sort(temp_f, order))\n",
    "    \n",
    "# Level 2 Candidate generation and Finding F2\n",
    "\n",
    "    C = [] \n",
    "    if len(temp_f) != 0:   \n",
    "        temp_c22 = level2_candidate(L, sdc, support)\n",
    "        if len(temp_c22) != 0:\n",
    "            C.append(temp_c22)\n",
    "            support, temp_f = freq_gen(C[0], data)\n",
    "            \n",
    "    if len(temp_f) != 0: \n",
    "        F.append(temp_f)\n",
    "\n",
    "## finding subsequent Frequent itemsets if any\n",
    "\n",
    "    k = 1\n",
    "    while len(temp_f) != 0:\n",
    "\n",
    "        C.append(MS_candidate(F[k], sdc))\n",
    "        temp_s, temp_f = freq_gen(C[k], data)\n",
    "        if len(temp_f) != 0: \n",
    "            F.append(temp_f)\n",
    "            support.update(temp_s)\n",
    "        k += 1\n",
    "#     return F\n",
    "\n",
    "# Converting the output in the required format\n",
    "\n",
    "    for i in range(len(F)):\n",
    "        print('(Length-' + str(i+1) + ' ' + str(len(F[i])))\n",
    "        for j in F[i]:\n",
    "            temp = '     ('\n",
    "            for k in j:\n",
    "                temp += k\n",
    "                if k != j[-1]:\n",
    "                    temp += ' '\n",
    "            temp += ')'\n",
    "            print(temp)\n",
    "        print(')')\n",
    "\n",
    "\n",
    "file_path = r'C:\\Users\\kalya\\OneDrive - University of Illinois at Chicago\\!UIC\\!Semesters\\3rd Sem\\CS 583 Data Mining and Text Mining\\Assignements\\Assignment 1 MSA Algorithm'\n",
    "freq_itemsets(file_path, 'As1_Sample3.txt', 'As1_MIS3.txt')"
   ]
  },
  {
   "cell_type": "code",
   "execution_count": null,
   "metadata": {},
   "outputs": [],
   "source": []
  },
  {
   "cell_type": "code",
   "execution_count": null,
   "metadata": {},
   "outputs": [],
   "source": []
  }
 ],
 "metadata": {
  "kernelspec": {
   "display_name": "Python 3",
   "language": "python",
   "name": "python3"
  },
  "language_info": {
   "codemirror_mode": {
    "name": "ipython",
    "version": 3
   },
   "file_extension": ".py",
   "mimetype": "text/x-python",
   "name": "python",
   "nbconvert_exporter": "python",
   "pygments_lexer": "ipython3",
   "version": "3.7.6"
  }
 },
 "nbformat": 4,
 "nbformat_minor": 4
}
