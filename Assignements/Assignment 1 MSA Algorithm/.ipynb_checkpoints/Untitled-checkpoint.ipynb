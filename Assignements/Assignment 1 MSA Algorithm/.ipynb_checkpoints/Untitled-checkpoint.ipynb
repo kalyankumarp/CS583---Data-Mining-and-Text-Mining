{
 "cells": [
  {
   "cell_type": "code",
   "execution_count": 1,
   "metadata": {},
   "outputs": [],
   "source": [
    "import numpy as np\n",
    "import os\n",
    "import pandas as pd"
   ]
  },
  {
   "cell_type": "code",
   "execution_count": 2,
   "metadata": {},
   "outputs": [],
   "source": [
    "file_path = r'C:\\Users\\kalya\\OneDrive - University of Illinois at Chicago\\!UIC\\!Semesters\\3rd Sem\\CS 583 Data Mining and Text Mining\\Assignements\\Assignment 1'"
   ]
  },
  {
   "cell_type": "code",
   "execution_count": 3,
   "metadata": {},
   "outputs": [
    {
     "data": {
      "text/plain": [
       "[[10, 50, 30, 40], [1, 2, 4, 6, 8, 9, 10], [3, 4, 5], [7, 9, 20]]"
      ]
     },
     "execution_count": 3,
     "metadata": {},
     "output_type": "execute_result"
    }
   ],
   "source": [
    "temp = np.loadtxt(fname = os.path.join(file_path, 'Sample.txt'), delimiter= '\\n', dtype= str)\n",
    "data_temp = [i.split(', ') for i in temp]\n",
    "data = [[int(i) for i in j] for j in data_temp]\n",
    "data"
   ]
  },
  {
   "cell_type": "code",
   "execution_count": 4,
   "metadata": {},
   "outputs": [
    {
     "data": {
      "text/plain": [
       "4"
      ]
     },
     "execution_count": 4,
     "metadata": {},
     "output_type": "execute_result"
    }
   ],
   "source": [
    "no_trans = len(data)\n",
    "no_trans"
   ]
  },
  {
   "cell_type": "code",
   "execution_count": 5,
   "metadata": {},
   "outputs": [
    {
     "data": {
      "text/plain": [
       "[1, 2, 3, 4, 5, 6, 7, 40, 8, 10, 9, 50, 20, 30]"
      ]
     },
     "execution_count": 5,
     "metadata": {},
     "output_type": "execute_result"
    }
   ],
   "source": [
    "def get_items(data):\n",
    "    temp6 =[]\n",
    "    for i in data:\n",
    "        for j in i:\n",
    "            temp6.append(j)\n",
    "    return list(set(temp6))\n",
    "    \n",
    "items = get_items(data)\n",
    "items"
   ]
  },
  {
   "cell_type": "code",
   "execution_count": 6,
   "metadata": {},
   "outputs": [
    {
     "data": {
      "text/plain": [
       "[['MIS(1)', '0.02'],\n",
       " ['MIS(2)', '0.04'],\n",
       " ['MIS(rest)', '0.01'],\n",
       " ['SDC', '0.003']]"
      ]
     },
     "execution_count": 6,
     "metadata": {},
     "output_type": "execute_result"
    }
   ],
   "source": [
    "temp2 = np.loadtxt(fname = os.path.join(file_path, 'MIS.txt'), delimiter= '\\n', dtype= str)\n",
    "MIS_temp = [i.split(' = ') for i in temp2]\n",
    "MIS_temp"
   ]
  },
  {
   "cell_type": "code",
   "execution_count": null,
   "metadata": {},
   "outputs": [],
   "source": []
  },
  {
   "cell_type": "code",
   "execution_count": 7,
   "metadata": {},
   "outputs": [
    {
     "name": "stdout",
     "output_type": "stream",
     "text": [
      "0.003\n"
     ]
    },
    {
     "data": {
      "text/plain": [
       "{1: 0.02, 2: 0.04}"
      ]
     },
     "execution_count": 7,
     "metadata": {},
     "output_type": "execute_result"
    }
   ],
   "source": [
    "def get_mis(MIS):\n",
    "    ms = {}\n",
    "    for i in MIS:\n",
    "        temp3 = []\n",
    "        if i[0] == 'SDC':\n",
    "            print(i[1])\n",
    "            sdc = float(i[1])\n",
    "        elif i[0] == 'MIS(rest)':\n",
    "            mis_rest = float(i[1])\n",
    "        else: \n",
    "#             temp3.append(i[0][4])\n",
    "#             temp3.append(float(i[1]))\n",
    "#             ms.append(temp3)\n",
    "            ms[int(i[0][4])] = float(i[1])\n",
    "    return ms, mis_rest, sdc\n",
    "\n",
    "MIS_temp, mis_rest, sdc = get_mis(MIS_temp) \n",
    "MIS_temp"
   ]
  },
  {
   "cell_type": "code",
   "execution_count": 8,
   "metadata": {},
   "outputs": [
    {
     "data": {
      "text/plain": [
       "{1: 0.02,\n",
       " 2: 0.04,\n",
       " 3: 0.01,\n",
       " 4: 0.01,\n",
       " 5: 0.01,\n",
       " 6: 0.01,\n",
       " 7: 0.01,\n",
       " 40: 0.01,\n",
       " 8: 0.01,\n",
       " 10: 0.01,\n",
       " 9: 0.01,\n",
       " 50: 0.01,\n",
       " 20: 0.01,\n",
       " 30: 0.01}"
      ]
     },
     "execution_count": 8,
     "metadata": {},
     "output_type": "execute_result"
    }
   ],
   "source": [
    "def all_mis(MIS_temp, items):\n",
    "    MIS ={}\n",
    "    for i in items:\n",
    "        try:\n",
    "            MIS[i] = MIS_temp[i]\n",
    "        except:\n",
    "            MIS[i] = mis_rest\n",
    "    return MIS\n",
    "MIS = all_mis(MIS_temp, items)\n",
    "MIS"
   ]
  },
  {
   "cell_type": "code",
   "execution_count": 9,
   "metadata": {},
   "outputs": [],
   "source": [
    "def sort(a, MIS, mis_rest):\n",
    "    temp5 = {}\n",
    "    for i in a:\n",
    "        try: \n",
    "            #print(i)\n",
    "            temp5[i] = MIS[i] \n",
    "        except:\n",
    "            temp5[i] = mis_rest\n",
    "    l = [i[0] for i in sorted(temp5.items(), key = lambda x: x[1], reverse = True)]\n",
    "    return l"
   ]
  },
  {
   "cell_type": "code",
   "execution_count": 10,
   "metadata": {},
   "outputs": [
    {
     "data": {
      "text/plain": [
       "[[10, 50, 30, 40], [2, 1, 4, 6, 8, 9, 10], [3, 4, 5], [7, 9, 20]]"
      ]
     },
     "execution_count": 10,
     "metadata": {},
     "output_type": "execute_result"
    }
   ],
   "source": [
    "data_sorted = [sort(i, MIS, mis_rest) for i in data]\n",
    "data_sorted"
   ]
  },
  {
   "cell_type": "markdown",
   "metadata": {},
   "source": [
    "# First counting"
   ]
  },
  {
   "cell_type": "code",
   "execution_count": 11,
   "metadata": {},
   "outputs": [
    {
     "data": {
      "text/plain": [
       "{1: 1,\n",
       " 2: 1,\n",
       " 3: 1,\n",
       " 4: 2,\n",
       " 5: 1,\n",
       " 6: 1,\n",
       " 7: 1,\n",
       " 40: 1,\n",
       " 8: 1,\n",
       " 10: 2,\n",
       " 9: 2,\n",
       " 50: 1,\n",
       " 20: 1,\n",
       " 30: 1}"
      ]
     },
     "execution_count": 11,
     "metadata": {},
     "output_type": "execute_result"
    }
   ],
   "source": [
    "count ={}\n",
    "for i in items:\n",
    "    t = 0\n",
    "    for j in data:\n",
    "        if i in j:\n",
    "            t += 1\n",
    "    count[i] = t\n",
    "count        "
   ]
  },
  {
   "cell_type": "markdown",
   "metadata": {},
   "source": [
    "# L"
   ]
  },
  {
   "cell_type": "code",
   "execution_count": 12,
   "metadata": {},
   "outputs": [
    {
     "name": "stdout",
     "output_type": "stream",
     "text": [
      "0\n"
     ]
    }
   ],
   "source": [
    "L = []\n",
    "support ={}\n",
    "for i in items:\n",
    "    if count[i]/no_trans >= MIS[i]:\n",
    "        first = items.index(i)\n",
    "        L.append(i)\n",
    "        support[i] = count[i]/no_trans\n",
    "        break\n",
    "print(first)\n",
    "while first < len(items)-1:\n",
    "    if count[items[first+1]]/no_trans >= MIS[L[0]]:\n",
    "        L.append(items[first+1])\n",
    "        support[items[first+1]] = count[items[first+1]]/no_trans\n",
    "    first+=1        "
   ]
  },
  {
   "cell_type": "code",
   "execution_count": 13,
   "metadata": {},
   "outputs": [
    {
     "data": {
      "text/plain": [
       "13"
      ]
     },
     "execution_count": 13,
     "metadata": {},
     "output_type": "execute_result"
    }
   ],
   "source": [
    "first"
   ]
  },
  {
   "cell_type": "code",
   "execution_count": 14,
   "metadata": {},
   "outputs": [
    {
     "data": {
      "text/plain": [
       "{1: 0.25,\n",
       " 2: 0.25,\n",
       " 3: 0.25,\n",
       " 4: 0.5,\n",
       " 5: 0.25,\n",
       " 6: 0.25,\n",
       " 7: 0.25,\n",
       " 40: 0.25,\n",
       " 8: 0.25,\n",
       " 10: 0.5,\n",
       " 9: 0.5,\n",
       " 50: 0.25,\n",
       " 20: 0.25,\n",
       " 30: 0.25}"
      ]
     },
     "execution_count": 14,
     "metadata": {},
     "output_type": "execute_result"
    }
   ],
   "source": [
    "support"
   ]
  },
  {
   "cell_type": "code",
   "execution_count": 15,
   "metadata": {},
   "outputs": [
    {
     "data": {
      "text/plain": [
       "[2, 1, 3, 4, 5, 6, 7, 40, 8, 10, 9, 50, 20, 30]"
      ]
     },
     "execution_count": 15,
     "metadata": {},
     "output_type": "execute_result"
    }
   ],
   "source": [
    "L = sort(L, MIS, mis_rest)\n",
    "L"
   ]
  },
  {
   "cell_type": "markdown",
   "metadata": {},
   "source": [
    "# F1"
   ]
  },
  {
   "cell_type": "code",
   "execution_count": 16,
   "metadata": {},
   "outputs": [
    {
     "data": {
      "text/plain": [
       "[[2, 1, 3, 4, 5, 6, 7, 40, 8, 10, 9, 50, 20, 30]]"
      ]
     },
     "execution_count": 16,
     "metadata": {},
     "output_type": "execute_result"
    }
   ],
   "source": [
    "F = []\n",
    "temp_F = []\n",
    "for i in L:\n",
    "    if support[i] >= MIS[i]:\n",
    "        temp_F.append(i)\n",
    "F.append(sort(temp_F, MIS, mis_rest))\n",
    "F"
   ]
  },
  {
   "cell_type": "code",
   "execution_count": null,
   "metadata": {},
   "outputs": [],
   "source": []
  },
  {
   "cell_type": "code",
   "execution_count": 17,
   "metadata": {},
   "outputs": [
    {
     "data": {
      "text/plain": [
       "'[[[2, 1], [2, 3], [2, 5], [2, 6], [2, 7], [2, 40], [2, 8], [2, 50], [2, 20], [2, 30], [1, 3], [1, 5], [1, 6], [1, 7], [1, 40], [1, 8], [1, 50], [1, 20], [1, 30], [3, 5], [3, 6], [3, 7], [3, 40], [3, 8], [3, 50], [3, 20], [3, 30], [4, 10], [4, 9], [5, 6], [5, 7], [5, 40], [5, 8], [5, 50], [5, 20], [5, 30], [6, 7], [6, 40], [6, 8], [6, 50], [6, 20], [6, 30], [7, 40], [7, 8], [7, 50], [7, 20], [7, 30], [40, 8], [40, 50], [40, 20], [40, 30], [8, 50], [8, 20], [8, 30], [10, 9], [50, 20], [50, 30], [20, 30]]]'"
      ]
     },
     "execution_count": 17,
     "metadata": {},
     "output_type": "execute_result"
    }
   ],
   "source": [
    "def level2_candidate(L,sdc):\n",
    "    temp_c =[]\n",
    "    for i in range(len(L)):\n",
    "        j = i+1\n",
    "        while j < len(L):\n",
    "            if support[L[j]] >= MIS[L[j]] and abs(support[L[j]] - support[L[i]]) <= sdc:\n",
    "                temp_c.append(sort([L[i], L[j]], MIS, mis_rest))\n",
    "\n",
    "            j += 1\n",
    "    return temp_c\n",
    "C = []                    \n",
    "C.append(level2_candidate(L,sdc))\n",
    "str(C)\n",
    "            \n",
    "        "
   ]
  },
  {
   "cell_type": "code",
   "execution_count": null,
   "metadata": {},
   "outputs": [],
   "source": []
  },
  {
   "cell_type": "markdown",
   "metadata": {},
   "source": [
    "# F2"
   ]
  },
  {
   "cell_type": "code",
   "execution_count": 18,
   "metadata": {},
   "outputs": [],
   "source": [
    "def freq_gen(t, data):\n",
    "    temp_f =[]\n",
    "    temp_s  = {}\n",
    "    for i in t:\n",
    "        temp_c = 0\n",
    "        for j in data:\n",
    "            if all(x in j for x in i):\n",
    "                temp_c += 1\n",
    "        if temp_c > 0:\n",
    "            temp_f.append(i)\n",
    "            temp_s[str(i)] = temp_c\n",
    "    return temp_s, temp_f\n",
    "        \n",
    "temp_s, temp_f = freq_gen(C[0], data)\n",
    "F.append(temp_f)\n",
    "support.update(temp_s)"
   ]
  },
  {
   "cell_type": "code",
   "execution_count": 19,
   "metadata": {},
   "outputs": [
    {
     "data": {
      "text/plain": [
       "'[[2, 1, 3, 4, 5, 6, 7, 40, 8, 10, 9, 50, 20, 30], [[2, 1], [2, 6], [2, 8], [1, 6], [1, 8], [3, 5], [4, 10], [4, 9], [6, 8], [7, 20], [40, 50], [40, 30], [10, 9], [50, 30]]]'"
      ]
     },
     "execution_count": 19,
     "metadata": {},
     "output_type": "execute_result"
    }
   ],
   "source": [
    "str(F)"
   ]
  },
  {
   "cell_type": "code",
   "execution_count": 20,
   "metadata": {},
   "outputs": [
    {
     "data": {
      "text/plain": [
       "\"{1: 0.25, 2: 0.25, 3: 0.25, 4: 0.5, 5: 0.25, 6: 0.25, 7: 0.25, 40: 0.25, 8: 0.25, 10: 0.5, 9: 0.5, 50: 0.25, 20: 0.25, 30: 0.25, '[2, 1]': 1, '[2, 6]': 1, '[2, 8]': 1, '[1, 6]': 1, '[1, 8]': 1, '[3, 5]': 1, '[4, 10]': 1, '[4, 9]': 1, '[6, 8]': 1, '[7, 20]': 1, '[40, 50]': 1, '[40, 30]': 1, '[10, 9]': 1, '[50, 30]': 1}\""
      ]
     },
     "execution_count": 20,
     "metadata": {},
     "output_type": "execute_result"
    }
   ],
   "source": [
    "str(support)"
   ]
  },
  {
   "cell_type": "markdown",
   "metadata": {},
   "source": [
    "# Candidate generation from k = 3"
   ]
  },
  {
   "cell_type": "code",
   "execution_count": 21,
   "metadata": {},
   "outputs": [
    {
     "name": "stdout",
     "output_type": "stream",
     "text": [
      "14\n"
     ]
    },
    {
     "data": {
      "text/plain": [
       "'[[[2, 1], [2, 3], [2, 5], [2, 6], [2, 7], [2, 40], [2, 8], [2, 50], [2, 20], [2, 30], [1, 3], [1, 5], [1, 6], [1, 7], [1, 40], [1, 8], [1, 50], [1, 20], [1, 30], [3, 5], [3, 6], [3, 7], [3, 40], [3, 8], [3, 50], [3, 20], [3, 30], [4, 10], [4, 9], [5, 6], [5, 7], [5, 40], [5, 8], [5, 50], [5, 20], [5, 30], [6, 7], [6, 40], [6, 8], [6, 50], [6, 20], [6, 30], [7, 40], [7, 8], [7, 50], [7, 20], [7, 30], [40, 8], [40, 50], [40, 20], [40, 30], [8, 50], [8, 20], [8, 30], [10, 9], [50, 20], [50, 30], [20, 30]], [[2, 1, 6], [2, 1, 8], [2, 8, 6], [1, 8, 6]]]'"
      ]
     },
     "execution_count": 21,
     "metadata": {},
     "output_type": "execute_result"
    }
   ],
   "source": [
    "def MS_candidate(f, sdc, support):\n",
    "    temp_c =[]\n",
    "    length = len(f)\n",
    "    print(length)\n",
    "    for i in range (0,length):\n",
    "        element = str(f[i])\n",
    "#         print(f[i])\n",
    "#         print(element[0:(len(element)-2)])\n",
    "#         print(z)\n",
    "        for j in range (i+1,length):\n",
    "            element1 = str(f[j])\n",
    "#             print(f[j][len(f[j])-1])\n",
    "            if element[0:(len(element)-2)] == element1[0:(len(element1)-2)] and abs(support[f[i][len(f[i])-1]] - support[f[j][len(f[j])-1]]) <= sdc:\n",
    "                temp_comb = list(set(f[i] + f[j]))\n",
    "#                 print(temp_comb)\n",
    "#                 print(z)\n",
    "                comb = sort(temp_comb, MIS, mis_rest)\n",
    "#                 print(comb)\n",
    "#                 print(z)\n",
    "                temp_c.append(comb)\n",
    "                for k in range(1,len(comb)+1):\n",
    "                    s = comb[:k-1] + comb[k:]\n",
    "                    if comb[0] in s or MIS[comb[1]] == MIS[comb[0]]:\n",
    "                        if s not in f:\n",
    "                            temp_c.remove(comb)\n",
    "                            break\n",
    "    return temp_c\n",
    "\n",
    "\n",
    "C.append(MS_candidate(F[1], sdc, support))\n",
    "str(C)"
   ]
  },
  {
   "cell_type": "code",
   "execution_count": 22,
   "metadata": {},
   "outputs": [],
   "source": [
    "temp_s, temp_f = freq_gen(C[1], data)\n",
    "F.append(temp_f)\n",
    "support.update(temp_s)"
   ]
  },
  {
   "cell_type": "code",
   "execution_count": 23,
   "metadata": {},
   "outputs": [
    {
     "data": {
      "text/plain": [
       "'[[2, 1, 3, 4, 5, 6, 7, 40, 8, 10, 9, 50, 20, 30], [[2, 1], [2, 6], [2, 8], [1, 6], [1, 8], [3, 5], [4, 10], [4, 9], [6, 8], [7, 20], [40, 50], [40, 30], [10, 9], [50, 30]], [[2, 1, 6], [2, 1, 8], [2, 8, 6], [1, 8, 6]]]'"
      ]
     },
     "execution_count": 23,
     "metadata": {},
     "output_type": "execute_result"
    }
   ],
   "source": [
    "str(F)"
   ]
  },
  {
   "cell_type": "code",
   "execution_count": 24,
   "metadata": {},
   "outputs": [
    {
     "name": "stdout",
     "output_type": "stream",
     "text": [
      "4\n"
     ]
    },
    {
     "data": {
      "text/plain": [
       "'[[[2, 1], [2, 3], [2, 5], [2, 6], [2, 7], [2, 40], [2, 8], [2, 50], [2, 20], [2, 30], [1, 3], [1, 5], [1, 6], [1, 7], [1, 40], [1, 8], [1, 50], [1, 20], [1, 30], [3, 5], [3, 6], [3, 7], [3, 40], [3, 8], [3, 50], [3, 20], [3, 30], [4, 10], [4, 9], [5, 6], [5, 7], [5, 40], [5, 8], [5, 50], [5, 20], [5, 30], [6, 7], [6, 40], [6, 8], [6, 50], [6, 20], [6, 30], [7, 40], [7, 8], [7, 50], [7, 20], [7, 30], [40, 8], [40, 50], [40, 20], [40, 30], [8, 50], [8, 20], [8, 30], [10, 9], [50, 20], [50, 30], [20, 30]], [[2, 1, 6], [2, 1, 8], [2, 8, 6], [1, 8, 6]], [[2, 1, 8, 6]]]'"
      ]
     },
     "execution_count": 24,
     "metadata": {},
     "output_type": "execute_result"
    }
   ],
   "source": [
    "C.append(MS_candidate(F[2], sdc, support))\n",
    "str(C)"
   ]
  },
  {
   "cell_type": "code",
   "execution_count": 25,
   "metadata": {},
   "outputs": [],
   "source": [
    "temp_s, temp_f = freq_gen(C[2], data)\n",
    "F.append(temp_f)\n",
    "support.update(temp_s)"
   ]
  },
  {
   "cell_type": "code",
   "execution_count": 26,
   "metadata": {},
   "outputs": [
    {
     "data": {
      "text/plain": [
       "'[[2, 1, 3, 4, 5, 6, 7, 40, 8, 10, 9, 50, 20, 30], [[2, 1], [2, 6], [2, 8], [1, 6], [1, 8], [3, 5], [4, 10], [4, 9], [6, 8], [7, 20], [40, 50], [40, 30], [10, 9], [50, 30]], [[2, 1, 6], [2, 1, 8], [2, 8, 6], [1, 8, 6]], [[2, 1, 8, 6]]]'"
      ]
     },
     "execution_count": 26,
     "metadata": {},
     "output_type": "execute_result"
    }
   ],
   "source": [
    "str(F)"
   ]
  },
  {
   "cell_type": "code",
   "execution_count": 27,
   "metadata": {},
   "outputs": [
    {
     "name": "stdout",
     "output_type": "stream",
     "text": [
      "1\n"
     ]
    },
    {
     "data": {
      "text/plain": [
       "'[[[2, 1], [2, 3], [2, 5], [2, 6], [2, 7], [2, 40], [2, 8], [2, 50], [2, 20], [2, 30], [1, 3], [1, 5], [1, 6], [1, 7], [1, 40], [1, 8], [1, 50], [1, 20], [1, 30], [3, 5], [3, 6], [3, 7], [3, 40], [3, 8], [3, 50], [3, 20], [3, 30], [4, 10], [4, 9], [5, 6], [5, 7], [5, 40], [5, 8], [5, 50], [5, 20], [5, 30], [6, 7], [6, 40], [6, 8], [6, 50], [6, 20], [6, 30], [7, 40], [7, 8], [7, 50], [7, 20], [7, 30], [40, 8], [40, 50], [40, 20], [40, 30], [8, 50], [8, 20], [8, 30], [10, 9], [50, 20], [50, 30], [20, 30]], [[2, 1, 6], [2, 1, 8], [2, 8, 6], [1, 8, 6]], [[2, 1, 8, 6]], []]'"
      ]
     },
     "execution_count": 27,
     "metadata": {},
     "output_type": "execute_result"
    }
   ],
   "source": [
    "C.append(MS_candidate(F[3], sdc, support))\n",
    "str(C)"
   ]
  },
  {
   "cell_type": "code",
   "execution_count": null,
   "metadata": {},
   "outputs": [],
   "source": []
  }
 ],
 "metadata": {
  "kernelspec": {
   "display_name": "Python 3",
   "language": "python",
   "name": "python3"
  },
  "language_info": {
   "codemirror_mode": {
    "name": "ipython",
    "version": 3
   },
   "file_extension": ".py",
   "mimetype": "text/x-python",
   "name": "python",
   "nbconvert_exporter": "python",
   "pygments_lexer": "ipython3",
   "version": "3.7.6"
  }
 },
 "nbformat": 4,
 "nbformat_minor": 4
}
