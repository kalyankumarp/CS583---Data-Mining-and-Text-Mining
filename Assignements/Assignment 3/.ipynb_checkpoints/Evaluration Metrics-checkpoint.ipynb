{
 "cells": [
  {
   "cell_type": "code",
   "execution_count": 1,
   "metadata": {},
   "outputs": [],
   "source": [
    "import numpy as np\n",
    "import os\n",
    "import pandas as pd\n",
    "import matplotlib.pyplot as mp\n",
    "from math import nan\n",
    "from sklearn import metrics"
   ]
  },
  {
   "cell_type": "code",
   "execution_count": 2,
   "metadata": {},
   "outputs": [],
   "source": [
    "file_path = r'C:\\Users\\kalya\\OneDrive - University of Illinois at Chicago\\!UIC\\!Semesters\\3rd Sem\\CS 583 Data Mining and Text Mining\\Assignements\\Assignment 3'"
   ]
  },
  {
   "cell_type": "code",
   "execution_count": 3,
   "metadata": {},
   "outputs": [],
   "source": [
    "# temp = np.loadtxt(fname = os.path.join(file_path, 'Sample.txt'), delimiter= '\\n', dtype= str)\n",
    "# data_temp = [i.replace('{','').replace('}', '').split(', ') for i in temp]\n",
    "# data = [[float(i) for i in j] for j in data_temp]\n",
    "# data"
   ]
  },
  {
   "cell_type": "code",
   "execution_count": 4,
   "metadata": {},
   "outputs": [
    {
     "data": {
      "text/plain": [
       "array([[0.63981624, 1.        ],\n",
       "       [0.49099293, 0.        ],\n",
       "       [0.62381454, 1.        ],\n",
       "       ...,\n",
       "       [0.59589869, 1.        ],\n",
       "       [0.51105786, 1.        ],\n",
       "       [0.63998183, 1.        ]])"
      ]
     },
     "execution_count": 4,
     "metadata": {},
     "output_type": "execute_result"
    }
   ],
   "source": [
    "data = np.loadtxt(fname = os.path.join(file_path, 'Book1.csv'), delimiter= ',', skiprows = 1)\n",
    "data"
   ]
  },
  {
   "cell_type": "code",
   "execution_count": 5,
   "metadata": {},
   "outputs": [],
   "source": [
    "# def predicted_class(data, threshold):\n",
    "#     temp =[]\n",
    "#     for i in data:\n",
    "#         if i[1]>threshold:\n",
    "#             temp.append(i + [1.0])\n",
    "#         else:\n",
    "#             temp.append(i + [0.0])\n",
    "#     return temp\n",
    "\n",
    "# data2= predicted_class(data, 0.5)\n",
    "# data2        "
   ]
  },
  {
   "cell_type": "code",
   "execution_count": 6,
   "metadata": {},
   "outputs": [
    {
     "data": {
      "text/plain": [
       "array([['0.639816239', '0.490992931', '0.623814545', ..., '0.595898691',\n",
       "        '0.511057863', '0.63998183'],\n",
       "       ['A', 'B', 'A', ..., 'A', 'A', 'A'],\n",
       "       ['A', 'B', 'A', ..., 'A', 'A', 'A']], dtype='<U32')"
      ]
     },
     "execution_count": 6,
     "metadata": {},
     "output_type": "execute_result"
    }
   ],
   "source": [
    "def predicted_class(data, threshold):\n",
    "    data_t = np.transpose(data)\n",
    "    temp  = []\n",
    "    temp2 = []\n",
    "    temp3 = []\n",
    "    for i in data_t[0]:\n",
    "        if i>threshold:\n",
    "            temp.append('A')\n",
    "        else:\n",
    "            temp.append('B')\n",
    "    for j in data_t[1]:\n",
    "        if j == 1.0:\n",
    "            temp3.append('A')\n",
    "        else:\n",
    "            temp3.append('B')  \n",
    "            \n",
    "    temp2.append(data_t[0])\n",
    "    temp2.append(temp3)\n",
    "    temp2.append(temp)\n",
    "\n",
    "    return np.asarray(temp2)\n",
    "\n",
    "data2= predicted_class(data, 0.5)\n",
    "data2"
   ]
  },
  {
   "cell_type": "code",
   "execution_count": null,
   "metadata": {},
   "outputs": [],
   "source": []
  },
  {
   "cell_type": "markdown",
   "metadata": {},
   "source": [
    "# The rows are actual and columns are predicted\n",
    "# The first row is positive and second one is of negative class. The same for columns"
   ]
  },
  {
   "cell_type": "code",
   "execution_count": 7,
   "metadata": {},
   "outputs": [
    {
     "data": {
      "text/plain": [
       "array([[5047., 2832.],\n",
       "       [2360., 5519.]])"
      ]
     },
     "execution_count": 7,
     "metadata": {},
     "output_type": "execute_result"
    }
   ],
   "source": [
    "def evaluation_metrics(data_t, threshold):\n",
    "    data = predicted_class(data_t, threshold)\n",
    "#     print(data[-2])\n",
    "# CONFUSION Matrix \n",
    "    actual_Classes = data[-2]    \n",
    "    predicted_Classes = data[-1] \n",
    "    class_uniq = np.unique(actual_Classes)\n",
    "#     print(class_uniq)\n",
    "    n = len(class_uniq)\n",
    "    conf = np.zeros((n,n))\n",
    "#     temp =[]\n",
    "#     pred_class_indices = [np.where(data_transpose[2] == i) for i in class_uniq]\n",
    "\n",
    "\n",
    "    for i in range(len(class_uniq)):\n",
    "        for j in range(len(class_uniq)):\n",
    "\n",
    "            conf[i, j] = np.sum((actual_Classes == class_uniq[i]) & (predicted_Classes == class_uniq[j]))\n",
    "#     conf  = conf.T\n",
    "    \n",
    "# Evaluation Metrics\n",
    "    EM = {}\n",
    "    EM['accuracy'] = round(sum(np.diagonal(conf))/len(data[0]),3)\n",
    "    EM['prec_positive'] = round(conf[0][0]/sum(conf[:,0]),3)\n",
    "    temp_rec = round(conf[0][0]/sum(conf[0,:]),3)\n",
    "    temp_func = lambda temp: 0 if bool(np.isnan(temp))  else temp\n",
    "    EM['rec_positive'] = temp_func(temp_rec)\n",
    "#     print(EM['rec_positive'])\n",
    "    EM['F1_positive'] = temp_func(round((2*EM['prec_positive']*EM['rec_positive'])/(EM['prec_positive']+EM['rec_positive']),3))\n",
    "    EM['TPR'] = EM['rec_positive']\n",
    "    EM['sensitivity'] = EM['rec_positive']\n",
    "    EM['TNR'] = temp_func(round(conf[1][1]/sum(conf[1,:]),3))\n",
    "    EM['specificity'] = EM['TNR']\n",
    "    EM['FPR'] = temp_func(round(1 - EM['TNR'],3))\n",
    "    return EM, conf\n",
    "\n",
    "\n",
    "EM, conf = evaluation_metrics(data, 0.5)\n",
    "conf"
   ]
  },
  {
   "cell_type": "code",
   "execution_count": 8,
   "metadata": {},
   "outputs": [
    {
     "data": {
      "text/plain": [
       "{'accuracy': 0.671,\n",
       " 'prec_positive': 0.681,\n",
       " 'rec_positive': 0.641,\n",
       " 'F1_positive': 0.66,\n",
       " 'TPR': 0.641,\n",
       " 'sensitivity': 0.641,\n",
       " 'TNR': 0.7,\n",
       " 'specificity': 0.7,\n",
       " 'FPR': 0.3}"
      ]
     },
     "execution_count": 8,
     "metadata": {},
     "output_type": "execute_result"
    }
   ],
   "source": [
    "EM"
   ]
  },
  {
   "cell_type": "code",
   "execution_count": 9,
   "metadata": {},
   "outputs": [
    {
     "name": "stderr",
     "output_type": "stream",
     "text": [
      "C:\\Users\\kalya\\anaconda3\\lib\\site-packages\\ipykernel_launcher.py:24: RuntimeWarning: invalid value encountered in double_scalars\n"
     ]
    }
   ],
   "source": [
    "def ROC(data):\n",
    "    t = 0\n",
    "    a = []\n",
    "    while t <= 1:\n",
    "        EM_temp = evaluation_metrics(data, t)[0]\n",
    "        b =[EM_temp['FPR'], EM_temp['TPR']]\n",
    "        a.append(b)\n",
    "        t += 0.001\n",
    "    return a\n",
    "\n",
    "a = np.transpose(ROC(data))\n"
   ]
  },
  {
   "cell_type": "code",
   "execution_count": 10,
   "metadata": {},
   "outputs": [
    {
     "data": {
      "text/plain": [
       "<matplotlib.collections.PathCollection at 0x135efd96d48>"
      ]
     },
     "execution_count": 10,
     "metadata": {},
     "output_type": "execute_result"
    },
    {
     "data": {
      "image/png": "[encoded data removed]",
      "text/plain": [
       "<Figure size 432x288 with 1 Axes>"
      ]
     },
     "metadata": {
      "needs_background": "light"
     },
     "output_type": "display_data"
    }
   ],
   "source": [
    "mp.scatter(a[0], a[1])"
   ]
  },
  {
   "cell_type": "markdown",
   "metadata": {},
   "source": [
    "# Using Trapeziodal principle to find the area under the roc curve"
   ]
  },
  {
   "cell_type": "code",
   "execution_count": 11,
   "metadata": {},
   "outputs": [
    {
     "data": {
      "text/plain": [
       "0.738"
      ]
     },
     "execution_count": 11,
     "metadata": {},
     "output_type": "execute_result"
    }
   ],
   "source": [
    "def auc(a):\n",
    "    area = 0\n",
    "    for i in range(len(a[0])-1):\n",
    "#         print(i)\n",
    "        area += abs((a[0][i+1] - a[0][i])*(a[1][i+1] + a[1][i]))/2\n",
    "    return round(area,3)\n",
    "\n",
    "auc(a)\n",
    "        "
   ]
  },
  {
   "cell_type": "code",
   "execution_count": 12,
   "metadata": {},
   "outputs": [],
   "source": [
    "from sklearn.metrics import confusion_matrix, precision_score"
   ]
  },
  {
   "cell_type": "code",
   "execution_count": 13,
   "metadata": {},
   "outputs": [
    {
     "data": {
      "text/plain": [
       "array([[5047, 2832],\n",
       "       [2360, 5519]], dtype=int64)"
      ]
     },
     "execution_count": 13,
     "metadata": {},
     "output_type": "execute_result"
    }
   ],
   "source": [
    "confusion_matrix(data2[1], data2[2])"
   ]
  },
  {
   "cell_type": "code",
   "execution_count": null,
   "metadata": {},
   "outputs": [],
   "source": []
  },
  {
   "cell_type": "code",
   "execution_count": null,
   "metadata": {},
   "outputs": [],
   "source": []
  }
 ],
 "metadata": {
  "kernelspec": {
   "display_name": "Python 3",
   "language": "python",
   "name": "python3"
  },
  "language_info": {
   "codemirror_mode": {
    "name": "ipython",
    "version": 3
   },
   "file_extension": ".py",
   "mimetype": "text/x-python",
   "name": "python",
   "nbconvert_exporter": "python",
   "pygments_lexer": "ipython3",
   "version": "3.7.6"
  }
 },
 "nbformat": 4,
 "nbformat_minor": 4
}
